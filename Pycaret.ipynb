{
 "cells": [
  {
   "cell_type": "code",
   "execution_count": 2,
   "id": "89288cfb-b821-478b-88d4-88be1858ce84",
   "metadata": {},
   "outputs": [
    {
     "name": "stdout",
     "output_type": "stream",
     "text": [
      "Collecting pycaret[full]\n",
      "  Using cached pycaret-2.3.10-py3-none-any.whl (320 kB)\n",
      "Requirement already satisfied: IPython in ./.conda/envs/d2l/lib/python3.9/site-packages (from pycaret[full]) (7.31.0)\n",
      "Collecting joblib\n",
      "  Using cached joblib-1.1.0-py2.py3-none-any.whl (306 kB)\n",
      "Collecting lightgbm>=2.3.1\n",
      "  Using cached lightgbm-3.3.2-py3-none-manylinux1_x86_64.whl (2.0 MB)\n",
      "Collecting scikit-plot\n",
      "  Using cached scikit_plot-0.3.7-py3-none-any.whl (33 kB)\n",
      "Collecting yellowbrick>=1.0.1\n",
      "  Using cached yellowbrick-1.4-py3-none-any.whl (274 kB)\n",
      "Collecting pyyaml<6.0.0\n",
      "  Using cached PyYAML-5.4.1-cp39-cp39-manylinux1_x86_64.whl (630 kB)\n",
      "Collecting pandas-profiling>=2.8.0\n",
      "  Using cached pandas_profiling-3.1.0-py2.py3-none-any.whl (261 kB)\n",
      "Collecting pyLDAvis\n",
      "  Using cached pyLDAvis-3.3.1-py2.py3-none-any.whl\n",
      "Collecting gensim<4.0.0\n",
      "  Using cached gensim-3.8.3-cp39-cp39-linux_x86_64.whl\n",
      "Collecting mlflow\n",
      "  Using cached mlflow-1.25.1-py3-none-any.whl (16.8 MB)\n",
      "Collecting mlxtend>=0.17.0\n",
      "  Using cached mlxtend-0.19.0-py2.py3-none-any.whl (1.3 MB)\n",
      "Requirement already satisfied: pandas in ./.conda/envs/d2l/lib/python3.9/site-packages (from pycaret[full]) (1.3.5)\n",
      "Collecting kmodes>=0.10.1\n",
      "  Using cached kmodes-0.12.1-py2.py3-none-any.whl (20 kB)\n",
      "Collecting numba<0.55\n",
      "  Using cached numba-0.54.1-cp39-cp39-manylinux2014_x86_64.manylinux_2_17_x86_64.whl (3.3 MB)\n",
      "Collecting seaborn\n",
      "  Using cached seaborn-0.11.2-py3-none-any.whl (292 kB)\n",
      "Collecting imbalanced-learn==0.7.0\n",
      "  Using cached imbalanced_learn-0.7.0-py3-none-any.whl (167 kB)\n",
      "Collecting umap-learn\n",
      "  Using cached umap_learn-0.5.3-py3-none-any.whl\n",
      "Collecting pyod\n",
      "  Using cached pyod-0.9.9-py3-none-any.whl\n",
      "Collecting scipy<=1.5.4\n",
      "  Using cached scipy-1.5.4-cp39-cp39-manylinux1_x86_64.whl (25.8 MB)\n",
      "Collecting textblob\n",
      "  Using cached textblob-0.17.1-py2.py3-none-any.whl (636 kB)\n",
      "Collecting nltk\n",
      "  Using cached nltk-3.7-py3-none-any.whl (1.5 MB)\n",
      "Collecting plotly>=4.4.1\n",
      "  Using cached plotly-5.7.0-py2.py3-none-any.whl (28.8 MB)\n",
      "Collecting spacy<2.4.0\n",
      "  Using cached spacy-2.3.7-cp39-cp39-manylinux_2_17_x86_64.manylinux2014_x86_64.whl (10.3 MB)\n",
      "Requirement already satisfied: matplotlib in ./.conda/envs/d2l/lib/python3.9/site-packages (from pycaret[full]) (3.5.1)\n",
      "Collecting cufflinks>=0.17.0\n",
      "  Using cached cufflinks-0.17.3-py3-none-any.whl\n",
      "Collecting scikit-learn==0.23.2\n",
      "  Using cached scikit_learn-0.23.2-cp39-cp39-linux_x86_64.whl\n",
      "Requirement already satisfied: ipywidgets in ./.conda/envs/d2l/lib/python3.9/site-packages (from pycaret[full]) (7.6.5)\n",
      "Collecting wordcloud\n",
      "  Using cached wordcloud-1.8.1-cp39-cp39-manylinux1_x86_64.whl (363 kB)\n",
      "Collecting Boruta\n",
      "  Using cached Boruta-0.3-py3-none-any.whl (56 kB)\n",
      "Collecting fastapi\n",
      "  Using cached fastapi-0.75.2-py3-none-any.whl (54 kB)\n",
      "Collecting fairlearn\n",
      "  Using cached fairlearn-0.7.0-py3-none-any.whl (177 kB)\n",
      "Collecting ray[tune]>=1.0.0\n",
      "  Using cached ray-1.12.0-cp39-cp39-manylinux2014_x86_64.whl (52.9 MB)\n",
      "Collecting psutil\n",
      "  Using cached psutil-5.9.0-cp39-cp39-manylinux_2_12_x86_64.manylinux2010_x86_64.manylinux_2_17_x86_64.manylinux2014_x86_64.whl (280 kB)\n",
      "Collecting autoviz\n",
      "  Using cached autoviz-0.1.38-py3-none-any.whl (59 kB)\n",
      "Collecting scikit-optimize>=0.8.1\n",
      "  Using cached scikit_optimize-0.9.0-py2.py3-none-any.whl (100 kB)\n",
      "Collecting catboost>=0.23.2\n",
      "  Using cached catboost-1.0.5-cp39-none-manylinux1_x86_64.whl (76.6 MB)\n",
      "Collecting shap\n",
      "  Using cached shap-0.40.0-cp39-cp39-manylinux2010_x86_64.whl (567 kB)\n",
      "Collecting fugue>=0.6.5\n",
      "  Using cached fugue-0.6.6-py3-none-any.whl (449 kB)\n",
      "Collecting tune-sklearn>=0.2.1\n",
      "  Using cached tune_sklearn-0.4.2-py3-none-any.whl (40 kB)\n",
      "Collecting azure-storage-blob\n",
      "  Using cached azure_storage_blob-12.11.0-py3-none-any.whl (346 kB)\n",
      "Collecting evidently\n",
      "  Using cached evidently-0.1.48.dev0-py3-none-any.whl (11.8 MB)\n",
      "Collecting hyperopt\n",
      "  Using cached hyperopt-0.2.7-py2.py3-none-any.whl (1.6 MB)\n",
      "Collecting optuna>=2.2.0\n",
      "  Using cached optuna-2.10.0-py3-none-any.whl (308 kB)\n",
      "Collecting xgboost>=1.1.0\n",
      "  Using cached xgboost-1.6.0-py3-none-manylinux2014_x86_64.whl (193.7 MB)\n",
      "Collecting gradio\n",
      "  Using cached gradio-2.9.4-py3-none-any.whl (2.9 MB)\n",
      "Collecting uvicorn\n",
      "  Using cached uvicorn-0.17.6-py3-none-any.whl (53 kB)\n",
      "Collecting m2cgen\n",
      "  Using cached m2cgen-0.9.0-py3-none-any.whl (73 kB)\n",
      "Collecting boto3\n",
      "  Using cached boto3-1.21.42-py3-none-any.whl (132 kB)\n",
      "Collecting interpret<=0.2.4\n",
      "  Using cached interpret-0.2.4-py3-none-any.whl (1.4 kB)\n",
      "Collecting google-cloud-storage\n",
      "  Using cached google_cloud_storage-2.3.0-py2.py3-none-any.whl (107 kB)\n",
      "Collecting explainerdashboard\n",
      "  Using cached explainerdashboard-0.3.8.2-py3-none-any.whl (305 kB)\n",
      "Requirement already satisfied: numpy>=1.13.3 in ./.conda/envs/d2l/lib/python3.9/site-packages (from imbalanced-learn==0.7.0->pycaret[full]) (1.22.0)\n",
      "Collecting threadpoolctl>=2.0.0\n",
      "  Using cached threadpoolctl-3.1.0-py3-none-any.whl (14 kB)\n",
      "Requirement already satisfied: six in ./.conda/envs/d2l/lib/python3.9/site-packages (from catboost>=0.23.2->pycaret[full]) (1.16.0)\n",
      "Collecting graphviz\n",
      "  Using cached graphviz-0.20-py3-none-any.whl (46 kB)\n",
      "Collecting colorlover>=0.2.1\n",
      "  Using cached colorlover-0.3.0-py3-none-any.whl (8.9 kB)\n",
      "Requirement already satisfied: setuptools>=34.4.1 in ./.conda/envs/d2l/lib/python3.9/site-packages (from cufflinks>=0.17.0->pycaret[full]) (60.2.0)\n",
      "Collecting triad>=0.6.0\n",
      "  Using cached triad-0.6.0-py3-none-any.whl (58 kB)\n",
      "Collecting antlr4-python3-runtime<4.10,>=4.9\n",
      "  Using cached antlr4_python3_runtime-4.9.3-py3-none-any.whl\n",
      "Collecting qpd>=0.2.6\n",
      "  Using cached qpd-0.2.6-py3-none-any.whl (194 kB)\n",
      "Collecting sqlalchemy\n",
      "  Using cached SQLAlchemy-1.4.35-cp39-cp39-manylinux_2_5_x86_64.manylinux1_x86_64.manylinux_2_17_x86_64.manylinux2014_x86_64.whl (1.6 MB)\n",
      "Collecting pyarrow>=0.15.1\n",
      "  Using cached pyarrow-7.0.0-cp39-cp39-manylinux_2_17_x86_64.manylinux2014_x86_64.whl (26.7 MB)\n",
      "Collecting adagio>=0.2.3\n",
      "  Using cached adagio-0.2.3-py3-none-any.whl (26 kB)\n",
      "Collecting smart-open>=1.8.1\n",
      "  Using cached smart_open-5.2.1-py3-none-any.whl (58 kB)\n",
      "Collecting interpret-core[dash,debug,decisiontree,ebm,lime,linear,notebook,plotly,required,sensitivity,shap,skoperules,treeinterpreter]>=0.2.4\n",
      "  Using cached interpret_core-0.2.7-py3-none-any.whl (6.6 MB)\n",
      "Requirement already satisfied: jedi>=0.16 in ./.conda/envs/d2l/lib/python3.9/site-packages (from IPython->pycaret[full]) (0.18.1)\n",
      "Requirement already satisfied: traitlets>=4.2 in ./.conda/envs/d2l/lib/python3.9/site-packages (from IPython->pycaret[full]) (5.1.1)\n",
      "Requirement already satisfied: decorator in ./.conda/envs/d2l/lib/python3.9/site-packages (from IPython->pycaret[full]) (5.1.0)\n",
      "Requirement already satisfied: pickleshare in ./.conda/envs/d2l/lib/python3.9/site-packages (from IPython->pycaret[full]) (0.7.5)\n",
      "Requirement already satisfied: matplotlib-inline in ./.conda/envs/d2l/lib/python3.9/site-packages (from IPython->pycaret[full]) (0.1.3)\n",
      "Requirement already satisfied: pygments in ./.conda/envs/d2l/lib/python3.9/site-packages (from IPython->pycaret[full]) (2.11.2)\n",
      "Requirement already satisfied: backcall in ./.conda/envs/d2l/lib/python3.9/site-packages (from IPython->pycaret[full]) (0.2.0)\n",
      "Requirement already satisfied: pexpect>4.3 in ./.conda/envs/d2l/lib/python3.9/site-packages (from IPython->pycaret[full]) (4.8.0)\n",
      "Requirement already satisfied: prompt-toolkit!=3.0.0,!=3.0.1,<3.1.0,>=2.0.0 in ./.conda/envs/d2l/lib/python3.9/site-packages (from IPython->pycaret[full]) (3.0.24)\n",
      "Requirement already satisfied: jupyterlab-widgets>=1.0.0 in ./.conda/envs/d2l/lib/python3.9/site-packages (from ipywidgets->pycaret[full]) (1.0.2)\n",
      "Requirement already satisfied: nbformat>=4.2.0 in ./.conda/envs/d2l/lib/python3.9/site-packages (from ipywidgets->pycaret[full]) (5.1.3)\n",
      "Requirement already satisfied: ipython-genutils~=0.2.0 in ./.conda/envs/d2l/lib/python3.9/site-packages (from ipywidgets->pycaret[full]) (0.2.0)\n",
      "Requirement already satisfied: widgetsnbextension~=3.5.0 in ./.conda/envs/d2l/lib/python3.9/site-packages (from ipywidgets->pycaret[full]) (3.5.2)\n",
      "Requirement already satisfied: ipykernel>=4.5.1 in ./.conda/envs/d2l/lib/python3.9/site-packages (from ipywidgets->pycaret[full]) (6.6.1)\n",
      "Requirement already satisfied: wheel in ./.conda/envs/d2l/lib/python3.9/site-packages (from lightgbm>=2.3.1->pycaret[full]) (0.37.1)\n",
      "Requirement already satisfied: packaging>=20.0 in ./.conda/envs/d2l/lib/python3.9/site-packages (from matplotlib->pycaret[full]) (21.3)\n",
      "Requirement already satisfied: kiwisolver>=1.0.1 in ./.conda/envs/d2l/lib/python3.9/site-packages (from matplotlib->pycaret[full]) (1.3.2)\n",
      "Requirement already satisfied: pyparsing>=2.2.1 in ./.conda/envs/d2l/lib/python3.9/site-packages (from matplotlib->pycaret[full]) (3.0.6)\n",
      "Requirement already satisfied: python-dateutil>=2.7 in ./.conda/envs/d2l/lib/python3.9/site-packages (from matplotlib->pycaret[full]) (2.8.2)\n",
      "Requirement already satisfied: cycler>=0.10 in ./.conda/envs/d2l/lib/python3.9/site-packages (from matplotlib->pycaret[full]) (0.11.0)\n",
      "Requirement already satisfied: fonttools>=4.22.0 in ./.conda/envs/d2l/lib/python3.9/site-packages (from matplotlib->pycaret[full]) (4.28.5)\n",
      "Requirement already satisfied: pillow>=6.2.0 in ./.conda/envs/d2l/lib/python3.9/site-packages (from matplotlib->pycaret[full]) (9.0.0)\n",
      "Collecting numpy>=1.13.3\n",
      "  Using cached numpy-1.20.3-cp39-cp39-manylinux_2_12_x86_64.manylinux2010_x86_64.whl (15.4 MB)\n",
      "Collecting llvmlite<0.38,>=0.37.0rc1\n",
      "  Using cached llvmlite-0.37.0-cp39-cp39-manylinux2014_x86_64.whl (26.3 MB)\n",
      "Collecting cliff\n",
      "  Using cached cliff-3.10.1-py3-none-any.whl (81 kB)\n",
      "Collecting colorlog\n",
      "  Using cached colorlog-6.6.0-py2.py3-none-any.whl (11 kB)\n",
      "Collecting tqdm\n",
      "  Using cached tqdm-4.64.0-py2.py3-none-any.whl (78 kB)\n",
      "Collecting cmaes>=0.8.2\n",
      "  Using cached cmaes-0.8.2-py3-none-any.whl (15 kB)\n",
      "Collecting alembic\n",
      "  Using cached alembic-1.7.7-py3-none-any.whl (210 kB)\n",
      "Requirement already satisfied: pytz>=2017.3 in ./.conda/envs/d2l/lib/python3.9/site-packages (from pandas->pycaret[full]) (2021.3)\n",
      "Collecting missingno>=0.4.2\n",
      "  Using cached missingno-0.5.1-py3-none-any.whl (8.7 kB)\n",
      "Collecting htmlmin>=0.1.12\n",
      "  Using cached htmlmin-0.1.12-py3-none-any.whl\n",
      "Collecting phik>=0.11.1\n",
      "  Using cached phik-0.12.2-cp39-cp39-manylinux_2_17_x86_64.manylinux2014_x86_64.whl (709 kB)\n",
      "Collecting visions[type_image_path]==0.7.4\n",
      "  Using cached visions-0.7.4-py3-none-any.whl (102 kB)\n",
      "Collecting multimethod>=1.4\n",
      "  Using cached multimethod-1.8-py3-none-any.whl (9.8 kB)\n",
      "Requirement already satisfied: markupsafe~=2.0.1 in ./.conda/envs/d2l/lib/python3.9/site-packages (from pandas-profiling>=2.8.0->pycaret[full]) (2.0.1)\n",
      "Requirement already satisfied: jinja2>=2.11.1 in ./.conda/envs/d2l/lib/python3.9/site-packages (from pandas-profiling>=2.8.0->pycaret[full]) (3.0.3)\n",
      "Collecting tangled-up-in-unicode==0.1.0\n",
      "  Using cached tangled_up_in_unicode-0.1.0-py3-none-any.whl (3.1 MB)\n",
      "Requirement already satisfied: requests>=2.24.0 in ./.conda/envs/d2l/lib/python3.9/site-packages (from pandas-profiling>=2.8.0->pycaret[full]) (2.27.1)\n",
      "Collecting joblib\n",
      "  Using cached joblib-1.0.1-py3-none-any.whl (303 kB)\n",
      "Collecting pydantic>=1.8.1\n",
      "  Using cached pydantic-1.9.0-cp39-cp39-manylinux_2_17_x86_64.manylinux2014_x86_64.whl (12.2 MB)\n",
      "Collecting networkx>=2.4\n",
      "  Using cached networkx-2.8-py3-none-any.whl (2.0 MB)\n",
      "Requirement already satisfied: attrs>=19.3.0 in ./.conda/envs/d2l/lib/python3.9/site-packages (from visions[type_image_path]==0.7.4->pandas-profiling>=2.8.0->pycaret[full]) (21.4.0)\n",
      "Collecting imagehash\n",
      "  Using cached ImageHash-4.2.1-py2.py3-none-any.whl\n",
      "Collecting tenacity>=6.2.0\n",
      "  Using cached tenacity-8.0.1-py3-none-any.whl (24 kB)\n",
      "Collecting virtualenv\n",
      "  Using cached virtualenv-20.14.1-py2.py3-none-any.whl (8.8 MB)\n",
      "Collecting filelock\n",
      "  Using cached filelock-3.6.0-py3-none-any.whl (10.0 kB)\n",
      "Collecting protobuf>=3.15.3\n",
      "  Using cached protobuf-3.20.0-cp39-cp39-manylinux_2_5_x86_64.manylinux1_x86_64.whl (1.0 MB)\n",
      "Collecting msgpack<2.0.0,>=1.0.0\n",
      "  Using cached msgpack-1.0.3-cp39-cp39-manylinux_2_17_x86_64.manylinux2014_x86_64.whl (322 kB)\n",
      "Collecting aiosignal\n",
      "  Using cached aiosignal-1.2.0-py3-none-any.whl (8.2 kB)\n",
      "Requirement already satisfied: jsonschema in ./.conda/envs/d2l/lib/python3.9/site-packages (from ray[tune]>=1.0.0->pycaret[full]) (4.3.3)\n",
      "Collecting grpcio<=1.43.0,>=1.28.1\n",
      "  Using cached grpcio-1.43.0-cp39-cp39-manylinux_2_17_x86_64.manylinux2014_x86_64.whl (4.1 MB)\n",
      "Collecting click>=7.0\n",
      "  Using cached click-8.1.2-py3-none-any.whl (96 kB)\n",
      "Collecting frozenlist\n",
      "  Using cached frozenlist-1.3.0-cp39-cp39-manylinux_2_5_x86_64.manylinux1_x86_64.manylinux_2_17_x86_64.manylinux2014_x86_64.whl (156 kB)\n",
      "Collecting tensorboardX>=1.9\n",
      "  Using cached tensorboardX-2.5-py2.py3-none-any.whl (125 kB)\n",
      "Collecting tabulate\n",
      "  Using cached tabulate-0.8.9-py3-none-any.whl (25 kB)\n",
      "Collecting pyaml>=16.9\n",
      "  Using cached pyaml-21.10.1-py2.py3-none-any.whl (24 kB)\n",
      "Collecting wasabi<1.1.0,>=0.4.0\n",
      "  Using cached wasabi-0.9.1-py3-none-any.whl (26 kB)\n",
      "Collecting preshed<3.1.0,>=3.0.2\n",
      "  Using cached preshed-3.0.6-cp39-cp39-manylinux_2_5_x86_64.manylinux1_x86_64.manylinux_2_17_x86_64.manylinux2014_x86_64.whl (128 kB)\n",
      "Collecting plac<1.2.0,>=0.9.6\n",
      "  Using cached plac-1.1.3-py2.py3-none-any.whl (20 kB)\n",
      "Collecting thinc<7.5.0,>=7.4.1\n",
      "  Using cached thinc-7.4.5-cp39-cp39-manylinux2014_x86_64.whl (1.1 MB)\n",
      "Collecting blis<0.8.0,>=0.4.0\n",
      "  Using cached blis-0.7.7-cp39-cp39-manylinux_2_17_x86_64.manylinux2014_x86_64.whl (9.9 MB)\n",
      "Collecting srsly<1.1.0,>=1.0.2\n",
      "  Using cached srsly-1.0.5-cp39-cp39-manylinux2014_x86_64.whl (184 kB)\n",
      "Collecting catalogue<1.1.0,>=0.0.7\n",
      "  Using cached catalogue-1.0.0-py2.py3-none-any.whl (7.7 kB)\n",
      "Collecting murmurhash<1.1.0,>=0.28.0\n",
      "  Using cached murmurhash-1.0.6-cp39-cp39-manylinux_2_5_x86_64.manylinux1_x86_64.manylinux_2_17_x86_64.manylinux2014_x86_64.whl (21 kB)\n",
      "Collecting cymem<2.1.0,>=2.0.2\n",
      "  Using cached cymem-2.0.6-cp39-cp39-manylinux_2_17_x86_64.manylinux2014_x86_64.whl (35 kB)\n",
      "Collecting yellowbrick>=1.0.1\n",
      "  Using cached yellowbrick-1.3.post1-py3-none-any.whl (271 kB)\n",
      "Collecting numpy>=1.13.3\n",
      "  Using cached numpy-1.19.5-cp39-cp39-manylinux2010_x86_64.whl (14.9 MB)\n",
      "Collecting hvplot>=0.7.3\n",
      "  Using cached hvplot-0.7.3-py2.py3-none-any.whl (3.1 MB)\n",
      "Collecting statsmodels\n",
      "  Using cached statsmodels-0.13.2-cp39-cp39-manylinux_2_17_x86_64.manylinux2014_x86_64.whl (9.9 MB)\n",
      "Requirement already satisfied: jupyter in ./.conda/envs/d2l/lib/python3.9/site-packages (from autoviz->pycaret[full]) (1.0.0)\n",
      "Collecting holoviews>=1.14.6\n",
      "  Using cached holoviews-1.14.8-py2.py3-none-any.whl (4.3 MB)\n",
      "Collecting emoji\n",
      "  Using cached emoji-1.7.0-py3-none-any.whl\n",
      "Collecting panel~=0.12.6\n",
      "  Using cached panel-0.12.7-py2.py3-none-any.whl (12.9 MB)\n",
      "Collecting fsspec>=0.8.3\n",
      "  Using cached fsspec-2022.3.0-py3-none-any.whl (136 kB)\n",
      "Collecting bokeh>=2.4.2\n",
      "  Using cached bokeh-2.4.2-py3-none-any.whl (18.5 MB)\n",
      "Collecting typing-extensions>=4.1.1\n",
      "  Using cached typing_extensions-4.2.0-py3-none-any.whl (24 kB)\n",
      "Collecting xlrd\n",
      "  Using cached xlrd-2.0.1-py2.py3-none-any.whl (96 kB)\n",
      "Collecting cryptography>=2.1.4\n",
      "  Using cached cryptography-36.0.2-cp36-abi3-manylinux_2_24_x86_64.whl (3.6 MB)\n",
      "Collecting azure-core<2.0.0,>=1.15.0\n",
      "  Using cached azure_core-1.23.1-py3-none-any.whl (178 kB)\n",
      "Collecting msrest>=0.6.21\n",
      "  Using cached msrest-0.6.21-py2.py3-none-any.whl (85 kB)\n",
      "Collecting botocore<1.25.0,>=1.24.42\n",
      "  Using cached botocore-1.24.42-py3-none-any.whl (8.7 MB)\n",
      "Collecting jmespath<2.0.0,>=0.7.1\n",
      "  Using cached jmespath-1.0.0-py3-none-any.whl (23 kB)\n",
      "Collecting s3transfer<0.6.0,>=0.5.0\n",
      "  Using cached s3transfer-0.5.2-py3-none-any.whl (79 kB)\n",
      "Collecting dataclasses>=0.6\n",
      "  Using cached dataclasses-0.6-py3-none-any.whl (14 kB)\n",
      "Collecting flask-simplelogin\n",
      "  Using cached flask_simplelogin-0.1.1-py3-none-any.whl (7.2 kB)\n",
      "Collecting dash-bootstrap-components<1\n",
      "  Using cached dash_bootstrap_components-0.13.1-py3-none-any.whl (197 kB)\n",
      "Collecting dash-auth\n",
      "  Using cached dash_auth-1.4.1-py3-none-any.whl\n",
      "Collecting jupyter-dash\n",
      "  Using cached jupyter_dash-0.4.2-py3-none-any.whl (23 kB)\n",
      "Collecting dash>=2\n",
      "  Using cached dash-2.3.1-py3-none-any.whl (9.6 MB)\n",
      "Collecting waitress\n",
      "  Using cached waitress-2.1.1-py3-none-any.whl (57 kB)\n",
      "Collecting oyaml\n",
      "  Using cached oyaml-1.0-py2.py3-none-any.whl (3.0 kB)\n",
      "Collecting dtreeviz>=1.3\n",
      "  Using cached dtreeviz-1.3.5-py3-none-any.whl\n",
      "Collecting Werkzeug<=2.0.3\n",
      "  Using cached Werkzeug-2.0.3-py3-none-any.whl (289 kB)\n",
      "Collecting slicer==0.0.7\n",
      "  Using cached slicer-0.0.7-py3-none-any.whl (14 kB)\n",
      "Collecting cloudpickle\n",
      "  Using cached cloudpickle-2.0.0-py3-none-any.whl (25 kB)\n",
      "Collecting starlette==0.17.1\n",
      "  Using cached starlette-0.17.1-py3-none-any.whl (58 kB)\n",
      "Collecting anyio<4,>=3.0.0\n",
      "  Using cached anyio-3.5.0-py3-none-any.whl (79 kB)\n",
      "Collecting google-resumable-media>=2.3.2\n",
      "  Using cached google_resumable_media-2.3.2-py2.py3-none-any.whl (76 kB)\n",
      "Collecting google-auth<3.0dev,>=1.25.0\n",
      "  Using cached google_auth-2.6.5-py2.py3-none-any.whl (156 kB)\n",
      "Collecting google-api-core!=2.0.*,!=2.1.*,!=2.2.*,!=2.3.0,<3.0.0dev,>=1.31.5\n",
      "  Using cached google_api_core-2.7.2-py3-none-any.whl (114 kB)\n",
      "Collecting google-cloud-core<3.0dev,>=2.3.0\n",
      "  Using cached google_cloud_core-2.3.0-py2.py3-none-any.whl (29 kB)\n",
      "Collecting python-multipart\n",
      "  Using cached python_multipart-0.0.5-py3-none-any.whl\n",
      "Collecting pycryptodome\n",
      "  Using cached pycryptodome-3.14.1-cp35-abi3-manylinux2010_x86_64.whl (2.0 MB)\n",
      "Collecting analytics-python\n",
      "  Using cached analytics_python-1.4.0-py2.py3-none-any.whl (15 kB)\n",
      "Collecting orjson\n",
      "  Using cached orjson-3.6.8-cp39-cp39-manylinux_2_24_x86_64.whl (253 kB)\n",
      "Collecting ffmpy\n",
      "  Using cached ffmpy-0.3.0-py3-none-any.whl\n",
      "Collecting paramiko\n",
      "  Using cached paramiko-2.10.3-py2.py3-none-any.whl (211 kB)\n",
      "Collecting pydub\n",
      "  Using cached pydub-0.25.1-py2.py3-none-any.whl (32 kB)\n",
      "Collecting markdown-it-py[linkify,plugins]\n",
      "  Using cached markdown_it_py-2.1.0-py3-none-any.whl (84 kB)\n",
      "Collecting aiohttp\n",
      "  Using cached aiohttp-3.8.1-cp39-cp39-manylinux_2_5_x86_64.manylinux1_x86_64.manylinux_2_12_x86_64.manylinux2010_x86_64.whl (1.2 MB)\n",
      "Collecting py4j\n",
      "  Using cached py4j-0.10.9.5-py2.py3-none-any.whl (199 kB)\n",
      "Collecting future\n",
      "  Using cached future-0.18.2-py3-none-any.whl\n",
      "Collecting importlib-metadata!=4.7.0,>=3.7.0\n",
      "  Downloading importlib_metadata-4.11.3-py3-none-any.whl (18 kB)\n",
      "Collecting prometheus-flask-exporter\n",
      "  Using cached prometheus_flask_exporter-0.20.1-py3-none-any.whl (18 kB)\n",
      "Collecting databricks-cli>=0.8.7\n",
      "  Using cached databricks_cli-0.16.6-py3-none-any.whl\n",
      "Collecting sqlparse>=0.3.1\n",
      "  Using cached sqlparse-0.4.2-py3-none-any.whl (42 kB)\n",
      "Collecting gunicorn\n",
      "  Using cached gunicorn-20.1.0-py3-none-any.whl (79 kB)\n",
      "Collecting gitpython>=2.1.0\n",
      "  Using cached GitPython-3.1.27-py3-none-any.whl (181 kB)\n",
      "Collecting Flask\n",
      "  Using cached Flask-2.1.1-py3-none-any.whl (95 kB)\n",
      "Collecting docker>=4.0.0\n",
      "  Using cached docker-5.0.3-py2.py3-none-any.whl (146 kB)\n",
      "Requirement already satisfied: entrypoints in ./.conda/envs/d2l/lib/python3.9/site-packages (from mlflow->pycaret[full]) (0.3)\n",
      "Collecting querystring-parser\n",
      "  Using cached querystring_parser-1.2.4-py2.py3-none-any.whl (7.9 kB)\n",
      "Collecting regex>=2021.8.3\n",
      "  Using cached regex-2022.3.15-cp39-cp39-manylinux_2_17_x86_64.manylinux2014_x86_64.whl (763 kB)\n",
      "Collecting numexpr\n",
      "  Using cached numexpr-2.8.1-cp39-cp39-manylinux_2_17_x86_64.manylinux2014_x86_64.whl (380 kB)\n",
      "Collecting sklearn\n",
      "  Using cached sklearn-0.0-py2.py3-none-any.whl\n",
      "Collecting funcy\n",
      "  Using cached funcy-1.17-py2.py3-none-any.whl (33 kB)\n",
      "Collecting pyLDAvis\n",
      "  Using cached pyLDAvis-3.3.0.tar.gz (1.7 MB)\n",
      "  Installing build dependencies ... \u001b[?25ldone\n",
      "\u001b[?25h  Getting requirements to build wheel ... \u001b[?25ldone\n",
      "\u001b[?25h  Installing backend dependencies ... \u001b[?25ldone\n",
      "\u001b[?25h  Preparing metadata (pyproject.toml) ... \u001b[?25ldone\n",
      "\u001b[?25h  Using cached pyLDAvis-3.2.2.tar.gz (1.7 MB)\n",
      "  Preparing metadata (setup.py) ... \u001b[?25ldone\n",
      "\u001b[?25hCollecting pynndescent>=0.5\n",
      "  Using cached pynndescent-0.5.6-py3-none-any.whl\n",
      "Collecting asgiref>=3.4.0\n",
      "  Using cached asgiref-3.5.0-py3-none-any.whl (22 kB)\n",
      "Collecting h11>=0.8\n",
      "  Using cached h11-0.13.0-py3-none-any.whl (58 kB)\n",
      "Requirement already satisfied: tornado>=5.1 in ./.conda/envs/d2l/lib/python3.9/site-packages (from bokeh>=2.4.2->autoviz->pycaret[full]) (6.1)\n",
      "Requirement already satisfied: urllib3<1.27,>=1.25.4 in ./.conda/envs/d2l/lib/python3.9/site-packages (from botocore<1.25.0,>=1.24.42->boto3->pycaret[full]) (1.26.7)\n",
      "Requirement already satisfied: cffi>=1.12 in ./.conda/envs/d2l/lib/python3.9/site-packages (from cryptography>=2.1.4->azure-storage-blob->pycaret[full]) (1.15.0)\n",
      "Collecting dash-html-components==2.0.0\n",
      "  Using cached dash_html_components-2.0.0-py3-none-any.whl (4.1 kB)\n",
      "Collecting dash-table==5.0.0\n",
      "  Using cached dash_table-5.0.0-py3-none-any.whl (3.9 kB)\n",
      "Collecting flask-compress\n",
      "  Using cached Flask_Compress-1.11-py3-none-any.whl (7.9 kB)\n",
      "Collecting dash-core-components==2.0.0\n",
      "  Using cached dash_core_components-2.0.0-py3-none-any.whl (3.8 kB)\n",
      "Collecting pyjwt>=1.7.0\n",
      "  Using cached PyJWT-2.3.0-py3-none-any.whl (16 kB)\n",
      "Collecting oauthlib>=3.1.0\n",
      "  Using cached oauthlib-3.2.0-py3-none-any.whl (151 kB)\n",
      "Collecting websocket-client>=0.32.0\n",
      "  Using cached websocket_client-1.3.2-py3-none-any.whl (54 kB)\n",
      "Collecting colour\n",
      "  Using cached colour-0.1.5-py2.py3-none-any.whl (23 kB)\n",
      "Collecting pytest\n",
      "  Using cached pytest-7.1.1-py3-none-any.whl (297 kB)\n",
      "Collecting itsdangerous>=2.0\n",
      "  Using cached itsdangerous-2.1.2-py3-none-any.whl (15 kB)\n",
      "Collecting gitdb<5,>=4.0.1\n",
      "  Using cached gitdb-4.0.9-py3-none-any.whl (63 kB)\n",
      "Collecting googleapis-common-protos<2.0dev,>=1.52.0\n",
      "  Using cached googleapis_common_protos-1.56.0-py2.py3-none-any.whl (241 kB)\n",
      "Collecting rsa<5,>=3.1.4\n",
      "  Using cached rsa-4.8-py3-none-any.whl (39 kB)\n",
      "Collecting pyasn1-modules>=0.2.1\n",
      "  Using cached pyasn1_modules-0.2.8-py2.py3-none-any.whl (155 kB)\n",
      "Collecting cachetools<6.0,>=2.0.0\n",
      "  Using cached cachetools-5.0.0-py3-none-any.whl (9.1 kB)\n",
      "Collecting google-crc32c<2.0dev,>=1.0\n",
      "  Using cached google_crc32c-1.3.0-cp39-cp39-manylinux_2_12_x86_64.manylinux2010_x86_64.whl (36 kB)\n",
      "Collecting pyviz-comms>=0.7.4\n",
      "  Using cached pyviz_comms-2.2.0-py2.py3-none-any.whl (42 kB)\n",
      "Collecting colorcet\n",
      "  Using cached colorcet-3.0.0-py2.py3-none-any.whl (1.6 MB)\n",
      "Collecting param<2.0,>=1.9.3\n",
      "  Using cached param-1.12.1-py2.py3-none-any.whl (85 kB)\n",
      "Collecting zipp>=0.5\n",
      "  Downloading zipp-3.8.0-py3-none-any.whl (5.4 kB)\n",
      "Collecting gevent>=1.3.6\n",
      "  Using cached gevent-21.12.0-cp39-cp39-manylinux_2_12_x86_64.manylinux2010_x86_64.whl (6.2 MB)\n",
      "Collecting dash-cytoscape>=0.1.1\n",
      "  Using cached dash_cytoscape-0.3.0-py3-none-any.whl (3.6 MB)\n",
      "Collecting skope-rules>=1.0.1\n",
      "  Using cached skope_rules-1.0.1-py3-none-any.whl (14 kB)\n",
      "Collecting dill>=0.2.5\n",
      "  Using cached dill-0.3.4-py2.py3-none-any.whl (86 kB)\n",
      "Collecting SALib>=1.3.3\n",
      "  Using cached SALib-1.4.5-py2.py3-none-any.whl (756 kB)\n",
      "Collecting lime>=0.1.1.33\n",
      "  Using cached lime-0.2.0.1-py3-none-any.whl\n",
      "Collecting treeinterpreter>=0.2.2\n",
      "  Using cached treeinterpreter-0.2.3-py2.py3-none-any.whl (6.0 kB)\n",
      "Requirement already satisfied: nest-asyncio in ./.conda/envs/d2l/lib/python3.9/site-packages (from ipykernel>=4.5.1->ipywidgets->pycaret[full]) (1.5.4)\n",
      "Requirement already satisfied: jupyter-client<8.0 in ./.conda/envs/d2l/lib/python3.9/site-packages (from ipykernel>=4.5.1->ipywidgets->pycaret[full]) (7.1.0)\n",
      "Requirement already satisfied: debugpy<2.0,>=1.0.0 in ./.conda/envs/d2l/lib/python3.9/site-packages (from ipykernel>=4.5.1->ipywidgets->pycaret[full]) (1.5.1)\n",
      "Requirement already satisfied: parso<0.9.0,>=0.8.0 in ./.conda/envs/d2l/lib/python3.9/site-packages (from jedi>=0.16->IPython->pycaret[full]) (0.8.3)\n",
      "Requirement already satisfied: certifi>=2017.4.17 in ./.conda/envs/d2l/lib/python3.9/site-packages (from msrest>=0.6.21->azure-storage-blob->pycaret[full]) (2021.10.8)\n",
      "Collecting requests-oauthlib>=0.5.0\n",
      "  Using cached requests_oauthlib-1.3.1-py2.py3-none-any.whl (23 kB)\n",
      "Collecting isodate>=0.6.0\n",
      "  Using cached isodate-0.6.1-py2.py3-none-any.whl (41 kB)\n",
      "Requirement already satisfied: jupyter-core in ./.conda/envs/d2l/lib/python3.9/site-packages (from nbformat>=4.2.0->ipywidgets->pycaret[full]) (4.9.1)\n",
      "Requirement already satisfied: pyrsistent!=0.17.0,!=0.17.1,!=0.17.2,>=0.14.0 in ./.conda/envs/d2l/lib/python3.9/site-packages (from jsonschema->ray[tune]>=1.0.0->pycaret[full]) (0.18.0)\n",
      "Requirement already satisfied: bleach in ./.conda/envs/d2l/lib/python3.9/site-packages (from panel~=0.12.6->autoviz->pycaret[full]) (4.1.0)\n",
      "Collecting pyct>=0.4.4\n",
      "  Using cached pyct-0.4.8-py2.py3-none-any.whl (15 kB)\n",
      "Collecting markdown\n",
      "  Using cached Markdown-3.3.6-py3-none-any.whl (97 kB)\n",
      "Requirement already satisfied: ptyprocess>=0.5 in ./.conda/envs/d2l/lib/python3.9/site-packages (from pexpect>4.3->IPython->pycaret[full]) (0.7.0)\n",
      "Requirement already satisfied: wcwidth in ./.conda/envs/d2l/lib/python3.9/site-packages (from prompt-toolkit!=3.0.0,!=3.0.1,<3.1.0,>=2.0.0->IPython->pycaret[full]) (0.2.5)\n",
      "Requirement already satisfied: idna<4,>=2.5 in ./.conda/envs/d2l/lib/python3.9/site-packages (from requests>=2.24.0->pandas-profiling>=2.8.0->pycaret[full]) (3.3)\n",
      "Requirement already satisfied: charset-normalizer~=2.0.0 in ./.conda/envs/d2l/lib/python3.9/site-packages (from requests>=2.24.0->pandas-profiling>=2.8.0->pycaret[full]) (2.0.10)\n",
      "Collecting greenlet!=0.4.17\n",
      "  Using cached greenlet-1.1.2-cp39-cp39-manylinux_2_17_x86_64.manylinux2014_x86_64.whl (153 kB)\n",
      "Collecting patsy>=0.5.2\n",
      "  Using cached patsy-0.5.2-py2.py3-none-any.whl (233 kB)\n",
      "Collecting ciso8601\n",
      "  Using cached ciso8601-2.2.0-cp39-cp39-linux_x86_64.whl\n",
      "Collecting fs\n",
      "  Using cached fs-2.4.15-py2.py3-none-any.whl (133 kB)\n",
      "Requirement already satisfied: notebook>=4.4.1 in ./.conda/envs/d2l/lib/python3.9/site-packages (from widgetsnbextension~=3.5.0->ipywidgets->pycaret[full]) (6.4.6)\n",
      "Collecting yarl<2.0,>=1.0\n",
      "  Using cached yarl-1.7.2-cp39-cp39-manylinux_2_5_x86_64.manylinux1_x86_64.manylinux_2_12_x86_64.manylinux2010_x86_64.whl (304 kB)\n",
      "Collecting async-timeout<5.0,>=4.0.0a3\n",
      "  Using cached async_timeout-4.0.2-py3-none-any.whl (5.8 kB)\n",
      "Collecting multidict<7.0,>=4.5\n",
      "  Using cached multidict-6.0.2-cp39-cp39-manylinux_2_17_x86_64.manylinux2014_x86_64.whl (114 kB)\n",
      "Collecting Mako\n",
      "  Using cached Mako-1.2.0-py3-none-any.whl (78 kB)\n",
      "Collecting backoff==1.10.0\n",
      "  Using cached backoff-1.10.0-py2.py3-none-any.whl (31 kB)\n",
      "Collecting monotonic>=1.5\n",
      "  Using cached monotonic-1.6-py2.py3-none-any.whl (8.2 kB)\n",
      "Collecting pbr!=2.1.0,>=2.0.0\n",
      "  Using cached pbr-5.8.1-py2.py3-none-any.whl (113 kB)\n",
      "Collecting PrettyTable>=0.7.2\n",
      "  Using cached prettytable-3.2.0-py3-none-any.whl (26 kB)\n",
      "Collecting cmd2>=1.0.0\n",
      "  Using cached cmd2-2.4.1-py3-none-any.whl (146 kB)\n",
      "Collecting autopage>=0.4.0\n",
      "  Using cached autopage-0.5.0-py3-none-any.whl (29 kB)\n",
      "Collecting stevedore>=2.0.1\n",
      "  Using cached stevedore-3.5.0-py3-none-any.whl (49 kB)\n",
      "Collecting chart-studio>=1.0.0\n",
      "  Using cached chart_studio-1.1.0-py3-none-any.whl (64 kB)\n",
      "Collecting retrying\n",
      "  Using cached retrying-1.3.3-py3-none-any.whl\n",
      "Collecting flask-seasurf\n",
      "  Using cached Flask_SeaSurf-1.1.1-py3-none-any.whl (8.4 kB)\n",
      "Collecting ua-parser\n",
      "  Using cached ua_parser-0.10.0-py2.py3-none-any.whl (35 kB)\n",
      "Collecting WTForms>=2.1\n",
      "  Using cached WTForms-3.0.1-py3-none-any.whl (136 kB)\n",
      "Collecting Flask-WTF<0.16.0,>=0.15.1\n",
      "  Using cached Flask_WTF-0.15.1-py2.py3-none-any.whl (13 kB)\n",
      "Requirement already satisfied: nbconvert in ./.conda/envs/d2l/lib/python3.9/site-packages (from jupyter->autoviz->pycaret[full]) (6.4.0)\n",
      "Requirement already satisfied: qtconsole in ./.conda/envs/d2l/lib/python3.9/site-packages (from jupyter->autoviz->pycaret[full]) (5.2.2)\n",
      "Requirement already satisfied: jupyter-console in ./.conda/envs/d2l/lib/python3.9/site-packages (from jupyter->autoviz->pycaret[full]) (6.4.0)\n",
      "Collecting ansi2html\n",
      "  Using cached ansi2html-1.7.0-py3-none-any.whl (15 kB)\n",
      "Collecting mdurl~=0.1\n",
      "  Using cached mdurl-0.1.1-py3-none-any.whl (10 kB)\n",
      "Collecting linkify-it-py~=1.0\n",
      "  Using cached linkify_it_py-1.0.3-py3-none-any.whl (19 kB)\n",
      "Collecting mdit-py-plugins\n",
      "  Using cached mdit_py_plugins-0.3.0-py3-none-any.whl (43 kB)\n",
      "Collecting pynacl>=1.0.1\n",
      "  Using cached PyNaCl-1.5.0-cp36-abi3-manylinux_2_17_x86_64.manylinux2014_x86_64.manylinux_2_24_x86_64.whl (856 kB)\n",
      "Collecting bcrypt>=3.1.3\n",
      "  Using cached bcrypt-3.2.0-cp36-abi3-manylinux_2_17_x86_64.manylinux2014_x86_64.manylinux_2_24_x86_64.whl (61 kB)\n",
      "Requirement already satisfied: prometheus-client in ./.conda/envs/d2l/lib/python3.9/site-packages (from prometheus-flask-exporter->mlflow->pycaret[full]) (0.12.0)\n",
      "Collecting distlib<1,>=0.3.1\n",
      "  Using cached distlib-0.3.4-py2.py3-none-any.whl (461 kB)\n",
      "Collecting platformdirs<3,>=2\n",
      "  Using cached platformdirs-2.5.1-py3-none-any.whl (14 kB)\n",
      "Collecting sniffio>=1.1\n",
      "  Using cached sniffio-1.2.0-py3-none-any.whl (10 kB)\n",
      "Requirement already satisfied: pycparser in ./.conda/envs/d2l/lib/python3.9/site-packages (from cffi>=1.12->cryptography>=2.1.4->azure-storage-blob->pycaret[full]) (2.21)\n",
      "Collecting pyperclip>=1.6\n",
      "  Using cached pyperclip-1.8.2-py3-none-any.whl\n",
      "Collecting zope.event\n",
      "  Using cached zope.event-4.5.0-py2.py3-none-any.whl (6.8 kB)\n",
      "Collecting zope.interface\n",
      "  Using cached zope.interface-5.4.0-cp39-cp39-manylinux2010_x86_64.whl (255 kB)\n",
      "Collecting smmap<6,>=3.0.1\n",
      "  Using cached smmap-5.0.0-py3-none-any.whl (24 kB)\n",
      "Requirement already satisfied: pyzmq>=13 in ./.conda/envs/d2l/lib/python3.9/site-packages (from jupyter-client<8.0->ipykernel>=4.5.1->ipywidgets->pycaret[full]) (22.3.0)\n",
      "Collecting scikit-image>=0.12\n",
      "  Using cached scikit_image-0.19.2-cp39-cp39-manylinux_2_17_x86_64.manylinux2014_x86_64.whl (14.0 MB)\n",
      "Collecting uc-micro-py\n",
      "  Using cached uc_micro_py-1.0.1-py3-none-any.whl (6.2 kB)\n",
      "Requirement already satisfied: terminado>=0.8.3 in ./.conda/envs/d2l/lib/python3.9/site-packages (from notebook>=4.4.1->widgetsnbextension~=3.5.0->ipywidgets->pycaret[full]) (0.12.1)\n",
      "Requirement already satisfied: Send2Trash>=1.8.0 in ./.conda/envs/d2l/lib/python3.9/site-packages (from notebook>=4.4.1->widgetsnbextension~=3.5.0->ipywidgets->pycaret[full]) (1.8.0)\n",
      "Requirement already satisfied: argon2-cffi in ./.conda/envs/d2l/lib/python3.9/site-packages (from notebook>=4.4.1->widgetsnbextension~=3.5.0->ipywidgets->pycaret[full]) (21.3.0)\n",
      "Collecting pyasn1<0.5.0,>=0.4.6\n",
      "  Using cached pyasn1-0.4.8-py2.py3-none-any.whl (77 kB)\n",
      "Collecting pathos\n",
      "  Using cached pathos-0.2.8-py2.py3-none-any.whl (81 kB)\n",
      "Requirement already satisfied: webencodings in ./.conda/envs/d2l/lib/python3.9/site-packages (from bleach->panel~=0.12.6->autoviz->pycaret[full]) (0.5.1)\n",
      "Collecting brotli\n",
      "  Using cached Brotli-1.0.9-cp39-cp39-manylinux1_x86_64.whl (357 kB)\n",
      "Collecting appdirs~=1.4.3\n",
      "  Using cached appdirs-1.4.4-py2.py3-none-any.whl (9.6 kB)\n",
      "Collecting PyWavelets\n",
      "  Using cached PyWavelets-1.3.0-cp39-cp39-manylinux_2_17_x86_64.manylinux2014_x86_64.whl (6.9 MB)\n",
      "Requirement already satisfied: testpath in ./.conda/envs/d2l/lib/python3.9/site-packages (from nbconvert->jupyter->autoviz->pycaret[full]) (0.5.0)\n",
      "Requirement already satisfied: pandocfilters>=1.4.1 in ./.conda/envs/d2l/lib/python3.9/site-packages (from nbconvert->jupyter->autoviz->pycaret[full]) (1.5.0)\n",
      "Requirement already satisfied: nbclient<0.6.0,>=0.5.0 in ./.conda/envs/d2l/lib/python3.9/site-packages (from nbconvert->jupyter->autoviz->pycaret[full]) (0.5.9)\n",
      "Requirement already satisfied: defusedxml in ./.conda/envs/d2l/lib/python3.9/site-packages (from nbconvert->jupyter->autoviz->pycaret[full]) (0.7.1)\n",
      "Requirement already satisfied: jupyterlab-pygments in ./.conda/envs/d2l/lib/python3.9/site-packages (from nbconvert->jupyter->autoviz->pycaret[full]) (0.1.2)\n",
      "Requirement already satisfied: mistune<2,>=0.8.1 in ./.conda/envs/d2l/lib/python3.9/site-packages (from nbconvert->jupyter->autoviz->pycaret[full]) (0.8.4)\n",
      "Collecting iniconfig\n",
      "  Using cached iniconfig-1.1.1-py2.py3-none-any.whl (5.0 kB)\n",
      "Collecting pluggy<2.0,>=0.12\n",
      "  Using cached pluggy-1.0.0-py2.py3-none-any.whl (13 kB)\n",
      "Collecting tomli>=1.0.0\n",
      "  Using cached tomli-2.0.1-py3-none-any.whl (12 kB)\n",
      "Collecting py>=1.8.2\n",
      "  Using cached py-1.11.0-py2.py3-none-any.whl (98 kB)\n",
      "Requirement already satisfied: qtpy in ./.conda/envs/d2l/lib/python3.9/site-packages (from qtconsole->jupyter->autoviz->pycaret[full]) (2.0.0)\n",
      "Collecting tifffile>=2019.7.26\n",
      "  Using cached tifffile-2022.4.8-py3-none-any.whl (180 kB)\n",
      "Collecting imageio>=2.4.1\n",
      "  Using cached imageio-2.16.2-py3-none-any.whl (3.3 MB)\n",
      "Requirement already satisfied: argon2-cffi-bindings in ./.conda/envs/d2l/lib/python3.9/site-packages (from argon2-cffi->notebook>=4.4.1->widgetsnbextension~=3.5.0->ipywidgets->pycaret[full]) (21.2.0)\n",
      "Collecting multiprocess>=0.70.12\n",
      "  Using cached multiprocess-0.70.12.2-py39-none-any.whl (128 kB)\n",
      "Collecting ppft>=1.6.6.4\n",
      "  Using cached ppft-1.6.6.4-py3-none-any.whl (65 kB)\n",
      "Collecting pox>=0.3.0\n",
      "  Using cached pox-0.3.0-py2.py3-none-any.whl (30 kB)\n",
      "Collecting imageio>=2.4.1\n",
      "  Downloading imageio-2.16.1-py3-none-any.whl (3.3 MB)\n",
      "     |████████████████████████████████| 3.3 MB 4.4 MB/s            \n",
      "\u001b[?25h  Downloading imageio-2.16.0-py3-none-any.whl (3.3 MB)\n",
      "     |████████████████████████████████| 3.3 MB 37.9 MB/s            \n",
      "\u001b[?25h  Downloading imageio-2.15.0-py3-none-any.whl (3.3 MB)\n",
      "     |████████████████████████████████| 3.3 MB 71.4 MB/s            \n",
      "\u001b[?25hBuilding wheels for collected packages: pyLDAvis\n",
      "  Building wheel for pyLDAvis (setup.py) ... \u001b[?25ldone\n",
      "\u001b[?25h  Created wheel for pyLDAvis: filename=pyLDAvis-3.2.2-py2.py3-none-any.whl size=135617 sha256=bd4903672c1c5b71f6f3cad86b2f23e8848330a751179c0e3621807b3dc5e0d6\n",
      "  Stored in directory: /home/studio-lab-user/.cache/pip/wheels/b0/68/81/dfed2270e246ff0e9d1ce54c83969f615652ccd8242a339e44\n",
      "Successfully built pyLDAvis\n",
      "Installing collected packages: zipp, Werkzeug, itsdangerous, importlib-metadata, click, typing-extensions, tenacity, pyyaml, pyasn1, param, numpy, Flask, dill, brotli, appdirs, tqdm, tifffile, threadpoolctl, tangled-up-in-unicode, sniffio, smmap, scipy, rsa, PyWavelets, pyviz-comms, pyct, pyasn1-modules, pyarrow, protobuf, ppft, pox, plotly, platformdirs, networkx, murmurhash, multiprocess, multimethod, mdurl, markdown, llvmlite, joblib, imageio, greenlet, fs, frozenlist, flask-compress, filelock, distlib, dash-table, dash-html-components, dash-core-components, cymem, ciso8601, cachetools, bokeh, zope.interface, zope.event, WTForms, websocket-client, wasabi, visions, virtualenv, uc-micro-py, triad, tomli, tabulate, srsly, sqlalchemy, slicer, seaborn, scikit-learn, scikit-image, retrying, regex, pyperclip, pyjwt, py, preshed, pluggy, plac, pbr, patsy, pathos, panel, oauthlib, numba, multidict, msgpack, markdown-it-py, Mako, jmespath, iniconfig, imagehash, grpcio, googleapis-common-protos, google-auth, gitdb, dash, colorcet, cloudpickle, catalogue, blis, anyio, aiosignal, yarl, ua-parser, treeinterpreter, thinc, tensorboardX, stevedore, statsmodels, starlette, sqlparse, smart-open, skope-rules, shap, SALib, requests-oauthlib, ray, querystring-parser, pytest, pynndescent, pynacl, pydantic, psutil, prometheus-flask-exporter, PrettyTable, phik, numexpr, nltk, monotonic, missingno, mdit-py-plugins, linkify-it-py, lime, isodate, interpret-core, htmlmin, holoviews, h11, gunicorn, graphviz, google-crc32c, google-api-core, gitpython, gevent, future, funcy, Flask-WTF, flask-seasurf, docker, databricks-cli, dash-cytoscape, cryptography, colour, colorlover, cmd2, chart-studio, botocore, bcrypt, backoff, autopage, async-timeout, asgiref, antlr4-python3-runtime, ansi2html, alembic, adagio, yellowbrick, xlrd, xgboost, wordcloud, waitress, uvicorn, umap-learn, textblob, spacy, scikit-plot, s3transfer, qpd, python-multipart, pyod, pyLDAvis, pydub, pycryptodome, pyaml, py4j, paramiko, pandas-profiling, oyaml, orjson, msrest, mlxtend, mlflow, lightgbm, kmodes, jupyter-dash, imbalanced-learn, hvplot, google-resumable-media, google-cloud-core, gensim, fsspec, flask-simplelogin, ffmpy, fastapi, emoji, dtreeviz, dataclasses, dash-bootstrap-components, dash-auth, cufflinks, colorlog, cmaes, cliff, Boruta, azure-core, analytics-python, aiohttp, tune-sklearn, scikit-optimize, pycaret, optuna, m2cgen, interpret, hyperopt, gradio, google-cloud-storage, fugue, fairlearn, explainerdashboard, evidently, catboost, boto3, azure-storage-blob, autoviz\n",
      "  Attempting uninstall: typing-extensions\n",
      "    Found existing installation: typing-extensions 4.0.1\n",
      "    Uninstalling typing-extensions-4.0.1:\n",
      "      Successfully uninstalled typing-extensions-4.0.1\n",
      "  Attempting uninstall: numpy\n",
      "    Found existing installation: numpy 1.22.0\n",
      "    Uninstalling numpy-1.22.0:\n",
      "      Successfully uninstalled numpy-1.22.0\n",
      "Successfully installed Boruta-0.3 Flask-2.1.1 Flask-WTF-0.15.1 Mako-1.2.0 PrettyTable-3.2.0 PyWavelets-1.3.0 SALib-1.4.5 WTForms-3.0.1 Werkzeug-2.0.3 adagio-0.2.3 aiohttp-3.8.1 aiosignal-1.2.0 alembic-1.7.7 analytics-python-1.4.0 ansi2html-1.7.0 antlr4-python3-runtime-4.9.3 anyio-3.5.0 appdirs-1.4.4 asgiref-3.5.0 async-timeout-4.0.2 autopage-0.5.0 autoviz-0.1.38 azure-core-1.23.1 azure-storage-blob-12.11.0 backoff-1.10.0 bcrypt-3.2.0 blis-0.7.7 bokeh-2.4.2 boto3-1.21.42 botocore-1.24.42 brotli-1.0.9 cachetools-5.0.0 catalogue-1.0.0 catboost-1.0.5 chart-studio-1.1.0 ciso8601-2.2.0 click-8.1.2 cliff-3.10.1 cloudpickle-2.0.0 cmaes-0.8.2 cmd2-2.4.1 colorcet-3.0.0 colorlog-6.6.0 colorlover-0.3.0 colour-0.1.5 cryptography-36.0.2 cufflinks-0.17.3 cymem-2.0.6 dash-2.3.1 dash-auth-1.4.1 dash-bootstrap-components-0.13.1 dash-core-components-2.0.0 dash-cytoscape-0.3.0 dash-html-components-2.0.0 dash-table-5.0.0 databricks-cli-0.16.6 dataclasses-0.6 dill-0.3.4 distlib-0.3.4 docker-5.0.3 dtreeviz-1.3.5 emoji-1.7.0 evidently-0.1.48.dev0 explainerdashboard-0.3.8.2 fairlearn-0.7.0 fastapi-0.75.2 ffmpy-0.3.0 filelock-3.6.0 flask-compress-1.11 flask-seasurf-1.1.1 flask-simplelogin-0.1.1 frozenlist-1.3.0 fs-2.4.15 fsspec-2022.3.0 fugue-0.6.6 funcy-1.17 future-0.18.2 gensim-3.8.3 gevent-21.12.0 gitdb-4.0.9 gitpython-3.1.27 google-api-core-2.7.2 google-auth-2.6.5 google-cloud-core-2.3.0 google-cloud-storage-2.3.0 google-crc32c-1.3.0 google-resumable-media-2.3.2 googleapis-common-protos-1.56.0 gradio-2.9.4 graphviz-0.20 greenlet-1.1.2 grpcio-1.43.0 gunicorn-20.1.0 h11-0.13.0 holoviews-1.14.8 htmlmin-0.1.12 hvplot-0.7.3 hyperopt-0.2.7 imagehash-4.2.1 imageio-2.15.0 imbalanced-learn-0.7.0 importlib-metadata-4.11.3 iniconfig-1.1.1 interpret-0.2.4 interpret-core-0.2.7 isodate-0.6.1 itsdangerous-2.1.2 jmespath-1.0.0 joblib-1.0.1 jupyter-dash-0.4.2 kmodes-0.12.1 lightgbm-3.3.2 lime-0.2.0.1 linkify-it-py-1.0.3 llvmlite-0.37.0 m2cgen-0.9.0 markdown-3.3.6 markdown-it-py-2.1.0 mdit-py-plugins-0.3.0 mdurl-0.1.1 missingno-0.5.1 mlflow-1.25.1 mlxtend-0.19.0 monotonic-1.6 msgpack-1.0.3 msrest-0.6.21 multidict-6.0.2 multimethod-1.8 multiprocess-0.70.12.2 murmurhash-1.0.6 networkx-2.8 nltk-3.7 numba-0.54.1 numexpr-2.8.1 numpy-1.19.5 oauthlib-3.2.0 optuna-2.10.0 orjson-3.6.8 oyaml-1.0 pandas-profiling-3.1.0 panel-0.12.7 param-1.12.1 paramiko-2.10.3 pathos-0.2.8 patsy-0.5.2 pbr-5.8.1 phik-0.12.2 plac-1.1.3 platformdirs-2.5.1 plotly-5.7.0 pluggy-1.0.0 pox-0.3.0 ppft-1.6.6.4 preshed-3.0.6 prometheus-flask-exporter-0.20.1 protobuf-3.20.0 psutil-5.9.0 py-1.11.0 py4j-0.10.9.5 pyLDAvis-3.2.2 pyaml-21.10.1 pyarrow-7.0.0 pyasn1-0.4.8 pyasn1-modules-0.2.8 pycaret-2.3.10 pycryptodome-3.14.1 pyct-0.4.8 pydantic-1.9.0 pydub-0.25.1 pyjwt-2.3.0 pynacl-1.5.0 pynndescent-0.5.6 pyod-0.9.9 pyperclip-1.8.2 pytest-7.1.1 python-multipart-0.0.5 pyviz-comms-2.2.0 pyyaml-5.4.1 qpd-0.2.6 querystring-parser-1.2.4 ray-1.12.0 regex-2022.3.15 requests-oauthlib-1.3.1 retrying-1.3.3 rsa-4.8 s3transfer-0.5.2 scikit-image-0.19.2 scikit-learn-0.23.2 scikit-optimize-0.9.0 scikit-plot-0.3.7 scipy-1.5.4 seaborn-0.11.2 shap-0.40.0 skope-rules-1.0.1 slicer-0.0.7 smart-open-5.2.1 smmap-5.0.0 sniffio-1.2.0 spacy-2.3.7 sqlalchemy-1.4.35 sqlparse-0.4.2 srsly-1.0.5 starlette-0.17.1 statsmodels-0.13.2 stevedore-3.5.0 tabulate-0.8.9 tangled-up-in-unicode-0.1.0 tenacity-8.0.1 tensorboardX-2.5 textblob-0.17.1 thinc-7.4.5 threadpoolctl-3.1.0 tifffile-2022.4.8 tomli-2.0.1 tqdm-4.64.0 treeinterpreter-0.2.3 triad-0.6.0 tune-sklearn-0.4.2 typing-extensions-4.2.0 ua-parser-0.10.0 uc-micro-py-1.0.1 umap-learn-0.5.3 uvicorn-0.17.6 virtualenv-20.14.1 visions-0.7.4 waitress-2.1.1 wasabi-0.9.1 websocket-client-1.3.2 wordcloud-1.8.1 xgboost-1.6.0 xlrd-2.0.1 yarl-1.7.2 yellowbrick-1.3.post1 zipp-3.8.0 zope.event-4.5.0 zope.interface-5.4.0\n"
     ]
    }
   ],
   "source": [
    "!pip install pycaret[full]"
   ]
  },
  {
   "cell_type": "code",
   "execution_count": 3,
   "id": "92493c87-f3b5-4872-880d-af525855ba83",
   "metadata": {},
   "outputs": [
    {
     "data": {
      "text/html": [
       "<div>\n",
       "<style scoped>\n",
       "    .dataframe tbody tr th:only-of-type {\n",
       "        vertical-align: middle;\n",
       "    }\n",
       "\n",
       "    .dataframe tbody tr th {\n",
       "        vertical-align: top;\n",
       "    }\n",
       "\n",
       "    .dataframe thead th {\n",
       "        text-align: right;\n",
       "    }\n",
       "</style>\n",
       "<table border=\"1\" class=\"dataframe\">\n",
       "  <thead>\n",
       "    <tr style=\"text-align: right;\">\n",
       "      <th></th>\n",
       "      <th>Id</th>\n",
       "      <th>Purchase</th>\n",
       "      <th>WeekofPurchase</th>\n",
       "      <th>StoreID</th>\n",
       "      <th>PriceCH</th>\n",
       "      <th>PriceMM</th>\n",
       "      <th>DiscCH</th>\n",
       "      <th>DiscMM</th>\n",
       "      <th>SpecialCH</th>\n",
       "      <th>SpecialMM</th>\n",
       "      <th>LoyalCH</th>\n",
       "      <th>SalePriceMM</th>\n",
       "      <th>SalePriceCH</th>\n",
       "      <th>PriceDiff</th>\n",
       "      <th>Store7</th>\n",
       "      <th>PctDiscMM</th>\n",
       "      <th>PctDiscCH</th>\n",
       "      <th>ListPriceDiff</th>\n",
       "      <th>STORE</th>\n",
       "    </tr>\n",
       "  </thead>\n",
       "  <tbody>\n",
       "    <tr>\n",
       "      <th>0</th>\n",
       "      <td>1</td>\n",
       "      <td>CH</td>\n",
       "      <td>237</td>\n",
       "      <td>1</td>\n",
       "      <td>1.75</td>\n",
       "      <td>1.99</td>\n",
       "      <td>0.00</td>\n",
       "      <td>0.0</td>\n",
       "      <td>0</td>\n",
       "      <td>0</td>\n",
       "      <td>0.500000</td>\n",
       "      <td>1.99</td>\n",
       "      <td>1.75</td>\n",
       "      <td>0.24</td>\n",
       "      <td>No</td>\n",
       "      <td>0.000000</td>\n",
       "      <td>0.000000</td>\n",
       "      <td>0.24</td>\n",
       "      <td>1</td>\n",
       "    </tr>\n",
       "    <tr>\n",
       "      <th>1</th>\n",
       "      <td>2</td>\n",
       "      <td>CH</td>\n",
       "      <td>239</td>\n",
       "      <td>1</td>\n",
       "      <td>1.75</td>\n",
       "      <td>1.99</td>\n",
       "      <td>0.00</td>\n",
       "      <td>0.3</td>\n",
       "      <td>0</td>\n",
       "      <td>1</td>\n",
       "      <td>0.600000</td>\n",
       "      <td>1.69</td>\n",
       "      <td>1.75</td>\n",
       "      <td>-0.06</td>\n",
       "      <td>No</td>\n",
       "      <td>0.150754</td>\n",
       "      <td>0.000000</td>\n",
       "      <td>0.24</td>\n",
       "      <td>1</td>\n",
       "    </tr>\n",
       "    <tr>\n",
       "      <th>2</th>\n",
       "      <td>3</td>\n",
       "      <td>CH</td>\n",
       "      <td>245</td>\n",
       "      <td>1</td>\n",
       "      <td>1.86</td>\n",
       "      <td>2.09</td>\n",
       "      <td>0.17</td>\n",
       "      <td>0.0</td>\n",
       "      <td>0</td>\n",
       "      <td>0</td>\n",
       "      <td>0.680000</td>\n",
       "      <td>2.09</td>\n",
       "      <td>1.69</td>\n",
       "      <td>0.40</td>\n",
       "      <td>No</td>\n",
       "      <td>0.000000</td>\n",
       "      <td>0.091398</td>\n",
       "      <td>0.23</td>\n",
       "      <td>1</td>\n",
       "    </tr>\n",
       "    <tr>\n",
       "      <th>3</th>\n",
       "      <td>4</td>\n",
       "      <td>MM</td>\n",
       "      <td>227</td>\n",
       "      <td>1</td>\n",
       "      <td>1.69</td>\n",
       "      <td>1.69</td>\n",
       "      <td>0.00</td>\n",
       "      <td>0.0</td>\n",
       "      <td>0</td>\n",
       "      <td>0</td>\n",
       "      <td>0.400000</td>\n",
       "      <td>1.69</td>\n",
       "      <td>1.69</td>\n",
       "      <td>0.00</td>\n",
       "      <td>No</td>\n",
       "      <td>0.000000</td>\n",
       "      <td>0.000000</td>\n",
       "      <td>0.00</td>\n",
       "      <td>1</td>\n",
       "    </tr>\n",
       "    <tr>\n",
       "      <th>4</th>\n",
       "      <td>5</td>\n",
       "      <td>CH</td>\n",
       "      <td>228</td>\n",
       "      <td>7</td>\n",
       "      <td>1.69</td>\n",
       "      <td>1.69</td>\n",
       "      <td>0.00</td>\n",
       "      <td>0.0</td>\n",
       "      <td>0</td>\n",
       "      <td>0</td>\n",
       "      <td>0.956535</td>\n",
       "      <td>1.69</td>\n",
       "      <td>1.69</td>\n",
       "      <td>0.00</td>\n",
       "      <td>Yes</td>\n",
       "      <td>0.000000</td>\n",
       "      <td>0.000000</td>\n",
       "      <td>0.00</td>\n",
       "      <td>0</td>\n",
       "    </tr>\n",
       "  </tbody>\n",
       "</table>\n",
       "</div>"
      ],
      "text/plain": [
       "   Id Purchase  WeekofPurchase  StoreID  PriceCH  PriceMM  DiscCH  DiscMM  \\\n",
       "0   1       CH             237        1     1.75     1.99    0.00     0.0   \n",
       "1   2       CH             239        1     1.75     1.99    0.00     0.3   \n",
       "2   3       CH             245        1     1.86     2.09    0.17     0.0   \n",
       "3   4       MM             227        1     1.69     1.69    0.00     0.0   \n",
       "4   5       CH             228        7     1.69     1.69    0.00     0.0   \n",
       "\n",
       "   SpecialCH  SpecialMM   LoyalCH  SalePriceMM  SalePriceCH  PriceDiff Store7  \\\n",
       "0          0          0  0.500000         1.99         1.75       0.24     No   \n",
       "1          0          1  0.600000         1.69         1.75      -0.06     No   \n",
       "2          0          0  0.680000         2.09         1.69       0.40     No   \n",
       "3          0          0  0.400000         1.69         1.69       0.00     No   \n",
       "4          0          0  0.956535         1.69         1.69       0.00    Yes   \n",
       "\n",
       "   PctDiscMM  PctDiscCH  ListPriceDiff  STORE  \n",
       "0   0.000000   0.000000           0.24      1  \n",
       "1   0.150754   0.000000           0.24      1  \n",
       "2   0.000000   0.091398           0.23      1  \n",
       "3   0.000000   0.000000           0.00      1  \n",
       "4   0.000000   0.000000           0.00      0  "
      ]
     },
     "metadata": {},
     "output_type": "display_data"
    }
   ],
   "source": [
    "from pycaret.datasets import get_data\n",
    "data = get_data('juice')"
   ]
  },
  {
   "cell_type": "code",
   "execution_count": 4,
   "id": "885b8bc4-b4b8-4c2a-aa92-2a685536c583",
   "metadata": {},
   "outputs": [
    {
     "data": {
      "text/html": [
       "<style type=\"text/css\">\n",
       "#T_79509_row44_col1 {\n",
       "  background-color: lightgreen;\n",
       "}\n",
       "</style>\n",
       "<table id=\"T_79509_\">\n",
       "  <thead>\n",
       "    <tr>\n",
       "      <th class=\"blank level0\" >&nbsp;</th>\n",
       "      <th class=\"col_heading level0 col0\" >Description</th>\n",
       "      <th class=\"col_heading level0 col1\" >Value</th>\n",
       "    </tr>\n",
       "  </thead>\n",
       "  <tbody>\n",
       "    <tr>\n",
       "      <th id=\"T_79509_level0_row0\" class=\"row_heading level0 row0\" >0</th>\n",
       "      <td id=\"T_79509_row0_col0\" class=\"data row0 col0\" >session_id</td>\n",
       "      <td id=\"T_79509_row0_col1\" class=\"data row0 col1\" >5815</td>\n",
       "    </tr>\n",
       "    <tr>\n",
       "      <th id=\"T_79509_level0_row1\" class=\"row_heading level0 row1\" >1</th>\n",
       "      <td id=\"T_79509_row1_col0\" class=\"data row1 col0\" >Target</td>\n",
       "      <td id=\"T_79509_row1_col1\" class=\"data row1 col1\" >Purchase</td>\n",
       "    </tr>\n",
       "    <tr>\n",
       "      <th id=\"T_79509_level0_row2\" class=\"row_heading level0 row2\" >2</th>\n",
       "      <td id=\"T_79509_row2_col0\" class=\"data row2 col0\" >Target Type</td>\n",
       "      <td id=\"T_79509_row2_col1\" class=\"data row2 col1\" >Binary</td>\n",
       "    </tr>\n",
       "    <tr>\n",
       "      <th id=\"T_79509_level0_row3\" class=\"row_heading level0 row3\" >3</th>\n",
       "      <td id=\"T_79509_row3_col0\" class=\"data row3 col0\" >Label Encoded</td>\n",
       "      <td id=\"T_79509_row3_col1\" class=\"data row3 col1\" >CH: 0, MM: 1</td>\n",
       "    </tr>\n",
       "    <tr>\n",
       "      <th id=\"T_79509_level0_row4\" class=\"row_heading level0 row4\" >4</th>\n",
       "      <td id=\"T_79509_row4_col0\" class=\"data row4 col0\" >Original Data</td>\n",
       "      <td id=\"T_79509_row4_col1\" class=\"data row4 col1\" >(1070, 19)</td>\n",
       "    </tr>\n",
       "    <tr>\n",
       "      <th id=\"T_79509_level0_row5\" class=\"row_heading level0 row5\" >5</th>\n",
       "      <td id=\"T_79509_row5_col0\" class=\"data row5 col0\" >Missing Values</td>\n",
       "      <td id=\"T_79509_row5_col1\" class=\"data row5 col1\" >False</td>\n",
       "    </tr>\n",
       "    <tr>\n",
       "      <th id=\"T_79509_level0_row6\" class=\"row_heading level0 row6\" >6</th>\n",
       "      <td id=\"T_79509_row6_col0\" class=\"data row6 col0\" >Numeric Features</td>\n",
       "      <td id=\"T_79509_row6_col1\" class=\"data row6 col1\" >13</td>\n",
       "    </tr>\n",
       "    <tr>\n",
       "      <th id=\"T_79509_level0_row7\" class=\"row_heading level0 row7\" >7</th>\n",
       "      <td id=\"T_79509_row7_col0\" class=\"data row7 col0\" >Categorical Features</td>\n",
       "      <td id=\"T_79509_row7_col1\" class=\"data row7 col1\" >5</td>\n",
       "    </tr>\n",
       "    <tr>\n",
       "      <th id=\"T_79509_level0_row8\" class=\"row_heading level0 row8\" >8</th>\n",
       "      <td id=\"T_79509_row8_col0\" class=\"data row8 col0\" >Ordinal Features</td>\n",
       "      <td id=\"T_79509_row8_col1\" class=\"data row8 col1\" >False</td>\n",
       "    </tr>\n",
       "    <tr>\n",
       "      <th id=\"T_79509_level0_row9\" class=\"row_heading level0 row9\" >9</th>\n",
       "      <td id=\"T_79509_row9_col0\" class=\"data row9 col0\" >High Cardinality Features</td>\n",
       "      <td id=\"T_79509_row9_col1\" class=\"data row9 col1\" >False</td>\n",
       "    </tr>\n",
       "    <tr>\n",
       "      <th id=\"T_79509_level0_row10\" class=\"row_heading level0 row10\" >10</th>\n",
       "      <td id=\"T_79509_row10_col0\" class=\"data row10 col0\" >High Cardinality Method</td>\n",
       "      <td id=\"T_79509_row10_col1\" class=\"data row10 col1\" >None</td>\n",
       "    </tr>\n",
       "    <tr>\n",
       "      <th id=\"T_79509_level0_row11\" class=\"row_heading level0 row11\" >11</th>\n",
       "      <td id=\"T_79509_row11_col0\" class=\"data row11 col0\" >Transformed Train Set</td>\n",
       "      <td id=\"T_79509_row11_col1\" class=\"data row11 col1\" >(748, 16)</td>\n",
       "    </tr>\n",
       "    <tr>\n",
       "      <th id=\"T_79509_level0_row12\" class=\"row_heading level0 row12\" >12</th>\n",
       "      <td id=\"T_79509_row12_col0\" class=\"data row12 col0\" >Transformed Test Set</td>\n",
       "      <td id=\"T_79509_row12_col1\" class=\"data row12 col1\" >(322, 16)</td>\n",
       "    </tr>\n",
       "    <tr>\n",
       "      <th id=\"T_79509_level0_row13\" class=\"row_heading level0 row13\" >13</th>\n",
       "      <td id=\"T_79509_row13_col0\" class=\"data row13 col0\" >Shuffle Train-Test</td>\n",
       "      <td id=\"T_79509_row13_col1\" class=\"data row13 col1\" >True</td>\n",
       "    </tr>\n",
       "    <tr>\n",
       "      <th id=\"T_79509_level0_row14\" class=\"row_heading level0 row14\" >14</th>\n",
       "      <td id=\"T_79509_row14_col0\" class=\"data row14 col0\" >Stratify Train-Test</td>\n",
       "      <td id=\"T_79509_row14_col1\" class=\"data row14 col1\" >False</td>\n",
       "    </tr>\n",
       "    <tr>\n",
       "      <th id=\"T_79509_level0_row15\" class=\"row_heading level0 row15\" >15</th>\n",
       "      <td id=\"T_79509_row15_col0\" class=\"data row15 col0\" >Fold Generator</td>\n",
       "      <td id=\"T_79509_row15_col1\" class=\"data row15 col1\" >StratifiedKFold</td>\n",
       "    </tr>\n",
       "    <tr>\n",
       "      <th id=\"T_79509_level0_row16\" class=\"row_heading level0 row16\" >16</th>\n",
       "      <td id=\"T_79509_row16_col0\" class=\"data row16 col0\" >Fold Number</td>\n",
       "      <td id=\"T_79509_row16_col1\" class=\"data row16 col1\" >10</td>\n",
       "    </tr>\n",
       "    <tr>\n",
       "      <th id=\"T_79509_level0_row17\" class=\"row_heading level0 row17\" >17</th>\n",
       "      <td id=\"T_79509_row17_col0\" class=\"data row17 col0\" >CPU Jobs</td>\n",
       "      <td id=\"T_79509_row17_col1\" class=\"data row17 col1\" >-1</td>\n",
       "    </tr>\n",
       "    <tr>\n",
       "      <th id=\"T_79509_level0_row18\" class=\"row_heading level0 row18\" >18</th>\n",
       "      <td id=\"T_79509_row18_col0\" class=\"data row18 col0\" >Use GPU</td>\n",
       "      <td id=\"T_79509_row18_col1\" class=\"data row18 col1\" >False</td>\n",
       "    </tr>\n",
       "    <tr>\n",
       "      <th id=\"T_79509_level0_row19\" class=\"row_heading level0 row19\" >19</th>\n",
       "      <td id=\"T_79509_row19_col0\" class=\"data row19 col0\" >Log Experiment</td>\n",
       "      <td id=\"T_79509_row19_col1\" class=\"data row19 col1\" >False</td>\n",
       "    </tr>\n",
       "    <tr>\n",
       "      <th id=\"T_79509_level0_row20\" class=\"row_heading level0 row20\" >20</th>\n",
       "      <td id=\"T_79509_row20_col0\" class=\"data row20 col0\" >Experiment Name</td>\n",
       "      <td id=\"T_79509_row20_col1\" class=\"data row20 col1\" >clf-default-name</td>\n",
       "    </tr>\n",
       "    <tr>\n",
       "      <th id=\"T_79509_level0_row21\" class=\"row_heading level0 row21\" >21</th>\n",
       "      <td id=\"T_79509_row21_col0\" class=\"data row21 col0\" >USI</td>\n",
       "      <td id=\"T_79509_row21_col1\" class=\"data row21 col1\" >f364</td>\n",
       "    </tr>\n",
       "    <tr>\n",
       "      <th id=\"T_79509_level0_row22\" class=\"row_heading level0 row22\" >22</th>\n",
       "      <td id=\"T_79509_row22_col0\" class=\"data row22 col0\" >Imputation Type</td>\n",
       "      <td id=\"T_79509_row22_col1\" class=\"data row22 col1\" >simple</td>\n",
       "    </tr>\n",
       "    <tr>\n",
       "      <th id=\"T_79509_level0_row23\" class=\"row_heading level0 row23\" >23</th>\n",
       "      <td id=\"T_79509_row23_col0\" class=\"data row23 col0\" >Iterative Imputation Iteration</td>\n",
       "      <td id=\"T_79509_row23_col1\" class=\"data row23 col1\" >None</td>\n",
       "    </tr>\n",
       "    <tr>\n",
       "      <th id=\"T_79509_level0_row24\" class=\"row_heading level0 row24\" >24</th>\n",
       "      <td id=\"T_79509_row24_col0\" class=\"data row24 col0\" >Numeric Imputer</td>\n",
       "      <td id=\"T_79509_row24_col1\" class=\"data row24 col1\" >mean</td>\n",
       "    </tr>\n",
       "    <tr>\n",
       "      <th id=\"T_79509_level0_row25\" class=\"row_heading level0 row25\" >25</th>\n",
       "      <td id=\"T_79509_row25_col0\" class=\"data row25 col0\" >Iterative Imputation Numeric Model</td>\n",
       "      <td id=\"T_79509_row25_col1\" class=\"data row25 col1\" >None</td>\n",
       "    </tr>\n",
       "    <tr>\n",
       "      <th id=\"T_79509_level0_row26\" class=\"row_heading level0 row26\" >26</th>\n",
       "      <td id=\"T_79509_row26_col0\" class=\"data row26 col0\" >Categorical Imputer</td>\n",
       "      <td id=\"T_79509_row26_col1\" class=\"data row26 col1\" >constant</td>\n",
       "    </tr>\n",
       "    <tr>\n",
       "      <th id=\"T_79509_level0_row27\" class=\"row_heading level0 row27\" >27</th>\n",
       "      <td id=\"T_79509_row27_col0\" class=\"data row27 col0\" >Iterative Imputation Categorical Model</td>\n",
       "      <td id=\"T_79509_row27_col1\" class=\"data row27 col1\" >None</td>\n",
       "    </tr>\n",
       "    <tr>\n",
       "      <th id=\"T_79509_level0_row28\" class=\"row_heading level0 row28\" >28</th>\n",
       "      <td id=\"T_79509_row28_col0\" class=\"data row28 col0\" >Unknown Categoricals Handling</td>\n",
       "      <td id=\"T_79509_row28_col1\" class=\"data row28 col1\" >least_frequent</td>\n",
       "    </tr>\n",
       "    <tr>\n",
       "      <th id=\"T_79509_level0_row29\" class=\"row_heading level0 row29\" >29</th>\n",
       "      <td id=\"T_79509_row29_col0\" class=\"data row29 col0\" >Normalize</td>\n",
       "      <td id=\"T_79509_row29_col1\" class=\"data row29 col1\" >False</td>\n",
       "    </tr>\n",
       "    <tr>\n",
       "      <th id=\"T_79509_level0_row30\" class=\"row_heading level0 row30\" >30</th>\n",
       "      <td id=\"T_79509_row30_col0\" class=\"data row30 col0\" >Normalize Method</td>\n",
       "      <td id=\"T_79509_row30_col1\" class=\"data row30 col1\" >None</td>\n",
       "    </tr>\n",
       "    <tr>\n",
       "      <th id=\"T_79509_level0_row31\" class=\"row_heading level0 row31\" >31</th>\n",
       "      <td id=\"T_79509_row31_col0\" class=\"data row31 col0\" >Transformation</td>\n",
       "      <td id=\"T_79509_row31_col1\" class=\"data row31 col1\" >False</td>\n",
       "    </tr>\n",
       "    <tr>\n",
       "      <th id=\"T_79509_level0_row32\" class=\"row_heading level0 row32\" >32</th>\n",
       "      <td id=\"T_79509_row32_col0\" class=\"data row32 col0\" >Transformation Method</td>\n",
       "      <td id=\"T_79509_row32_col1\" class=\"data row32 col1\" >None</td>\n",
       "    </tr>\n",
       "    <tr>\n",
       "      <th id=\"T_79509_level0_row33\" class=\"row_heading level0 row33\" >33</th>\n",
       "      <td id=\"T_79509_row33_col0\" class=\"data row33 col0\" >PCA</td>\n",
       "      <td id=\"T_79509_row33_col1\" class=\"data row33 col1\" >False</td>\n",
       "    </tr>\n",
       "    <tr>\n",
       "      <th id=\"T_79509_level0_row34\" class=\"row_heading level0 row34\" >34</th>\n",
       "      <td id=\"T_79509_row34_col0\" class=\"data row34 col0\" >PCA Method</td>\n",
       "      <td id=\"T_79509_row34_col1\" class=\"data row34 col1\" >None</td>\n",
       "    </tr>\n",
       "    <tr>\n",
       "      <th id=\"T_79509_level0_row35\" class=\"row_heading level0 row35\" >35</th>\n",
       "      <td id=\"T_79509_row35_col0\" class=\"data row35 col0\" >PCA Components</td>\n",
       "      <td id=\"T_79509_row35_col1\" class=\"data row35 col1\" >None</td>\n",
       "    </tr>\n",
       "    <tr>\n",
       "      <th id=\"T_79509_level0_row36\" class=\"row_heading level0 row36\" >36</th>\n",
       "      <td id=\"T_79509_row36_col0\" class=\"data row36 col0\" >Ignore Low Variance</td>\n",
       "      <td id=\"T_79509_row36_col1\" class=\"data row36 col1\" >False</td>\n",
       "    </tr>\n",
       "    <tr>\n",
       "      <th id=\"T_79509_level0_row37\" class=\"row_heading level0 row37\" >37</th>\n",
       "      <td id=\"T_79509_row37_col0\" class=\"data row37 col0\" >Combine Rare Levels</td>\n",
       "      <td id=\"T_79509_row37_col1\" class=\"data row37 col1\" >False</td>\n",
       "    </tr>\n",
       "    <tr>\n",
       "      <th id=\"T_79509_level0_row38\" class=\"row_heading level0 row38\" >38</th>\n",
       "      <td id=\"T_79509_row38_col0\" class=\"data row38 col0\" >Rare Level Threshold</td>\n",
       "      <td id=\"T_79509_row38_col1\" class=\"data row38 col1\" >None</td>\n",
       "    </tr>\n",
       "    <tr>\n",
       "      <th id=\"T_79509_level0_row39\" class=\"row_heading level0 row39\" >39</th>\n",
       "      <td id=\"T_79509_row39_col0\" class=\"data row39 col0\" >Numeric Binning</td>\n",
       "      <td id=\"T_79509_row39_col1\" class=\"data row39 col1\" >False</td>\n",
       "    </tr>\n",
       "    <tr>\n",
       "      <th id=\"T_79509_level0_row40\" class=\"row_heading level0 row40\" >40</th>\n",
       "      <td id=\"T_79509_row40_col0\" class=\"data row40 col0\" >Remove Outliers</td>\n",
       "      <td id=\"T_79509_row40_col1\" class=\"data row40 col1\" >False</td>\n",
       "    </tr>\n",
       "    <tr>\n",
       "      <th id=\"T_79509_level0_row41\" class=\"row_heading level0 row41\" >41</th>\n",
       "      <td id=\"T_79509_row41_col0\" class=\"data row41 col0\" >Outliers Threshold</td>\n",
       "      <td id=\"T_79509_row41_col1\" class=\"data row41 col1\" >None</td>\n",
       "    </tr>\n",
       "    <tr>\n",
       "      <th id=\"T_79509_level0_row42\" class=\"row_heading level0 row42\" >42</th>\n",
       "      <td id=\"T_79509_row42_col0\" class=\"data row42 col0\" >Remove Multicollinearity</td>\n",
       "      <td id=\"T_79509_row42_col1\" class=\"data row42 col1\" >False</td>\n",
       "    </tr>\n",
       "    <tr>\n",
       "      <th id=\"T_79509_level0_row43\" class=\"row_heading level0 row43\" >43</th>\n",
       "      <td id=\"T_79509_row43_col0\" class=\"data row43 col0\" >Multicollinearity Threshold</td>\n",
       "      <td id=\"T_79509_row43_col1\" class=\"data row43 col1\" >None</td>\n",
       "    </tr>\n",
       "    <tr>\n",
       "      <th id=\"T_79509_level0_row44\" class=\"row_heading level0 row44\" >44</th>\n",
       "      <td id=\"T_79509_row44_col0\" class=\"data row44 col0\" >Remove Perfect Collinearity</td>\n",
       "      <td id=\"T_79509_row44_col1\" class=\"data row44 col1\" >True</td>\n",
       "    </tr>\n",
       "    <tr>\n",
       "      <th id=\"T_79509_level0_row45\" class=\"row_heading level0 row45\" >45</th>\n",
       "      <td id=\"T_79509_row45_col0\" class=\"data row45 col0\" >Clustering</td>\n",
       "      <td id=\"T_79509_row45_col1\" class=\"data row45 col1\" >False</td>\n",
       "    </tr>\n",
       "    <tr>\n",
       "      <th id=\"T_79509_level0_row46\" class=\"row_heading level0 row46\" >46</th>\n",
       "      <td id=\"T_79509_row46_col0\" class=\"data row46 col0\" >Clustering Iteration</td>\n",
       "      <td id=\"T_79509_row46_col1\" class=\"data row46 col1\" >None</td>\n",
       "    </tr>\n",
       "    <tr>\n",
       "      <th id=\"T_79509_level0_row47\" class=\"row_heading level0 row47\" >47</th>\n",
       "      <td id=\"T_79509_row47_col0\" class=\"data row47 col0\" >Polynomial Features</td>\n",
       "      <td id=\"T_79509_row47_col1\" class=\"data row47 col1\" >False</td>\n",
       "    </tr>\n",
       "    <tr>\n",
       "      <th id=\"T_79509_level0_row48\" class=\"row_heading level0 row48\" >48</th>\n",
       "      <td id=\"T_79509_row48_col0\" class=\"data row48 col0\" >Polynomial Degree</td>\n",
       "      <td id=\"T_79509_row48_col1\" class=\"data row48 col1\" >None</td>\n",
       "    </tr>\n",
       "    <tr>\n",
       "      <th id=\"T_79509_level0_row49\" class=\"row_heading level0 row49\" >49</th>\n",
       "      <td id=\"T_79509_row49_col0\" class=\"data row49 col0\" >Trignometry Features</td>\n",
       "      <td id=\"T_79509_row49_col1\" class=\"data row49 col1\" >False</td>\n",
       "    </tr>\n",
       "    <tr>\n",
       "      <th id=\"T_79509_level0_row50\" class=\"row_heading level0 row50\" >50</th>\n",
       "      <td id=\"T_79509_row50_col0\" class=\"data row50 col0\" >Polynomial Threshold</td>\n",
       "      <td id=\"T_79509_row50_col1\" class=\"data row50 col1\" >None</td>\n",
       "    </tr>\n",
       "    <tr>\n",
       "      <th id=\"T_79509_level0_row51\" class=\"row_heading level0 row51\" >51</th>\n",
       "      <td id=\"T_79509_row51_col0\" class=\"data row51 col0\" >Group Features</td>\n",
       "      <td id=\"T_79509_row51_col1\" class=\"data row51 col1\" >False</td>\n",
       "    </tr>\n",
       "    <tr>\n",
       "      <th id=\"T_79509_level0_row52\" class=\"row_heading level0 row52\" >52</th>\n",
       "      <td id=\"T_79509_row52_col0\" class=\"data row52 col0\" >Feature Selection</td>\n",
       "      <td id=\"T_79509_row52_col1\" class=\"data row52 col1\" >False</td>\n",
       "    </tr>\n",
       "    <tr>\n",
       "      <th id=\"T_79509_level0_row53\" class=\"row_heading level0 row53\" >53</th>\n",
       "      <td id=\"T_79509_row53_col0\" class=\"data row53 col0\" >Feature Selection Method</td>\n",
       "      <td id=\"T_79509_row53_col1\" class=\"data row53 col1\" >classic</td>\n",
       "    </tr>\n",
       "    <tr>\n",
       "      <th id=\"T_79509_level0_row54\" class=\"row_heading level0 row54\" >54</th>\n",
       "      <td id=\"T_79509_row54_col0\" class=\"data row54 col0\" >Features Selection Threshold</td>\n",
       "      <td id=\"T_79509_row54_col1\" class=\"data row54 col1\" >None</td>\n",
       "    </tr>\n",
       "    <tr>\n",
       "      <th id=\"T_79509_level0_row55\" class=\"row_heading level0 row55\" >55</th>\n",
       "      <td id=\"T_79509_row55_col0\" class=\"data row55 col0\" >Feature Interaction</td>\n",
       "      <td id=\"T_79509_row55_col1\" class=\"data row55 col1\" >False</td>\n",
       "    </tr>\n",
       "    <tr>\n",
       "      <th id=\"T_79509_level0_row56\" class=\"row_heading level0 row56\" >56</th>\n",
       "      <td id=\"T_79509_row56_col0\" class=\"data row56 col0\" >Feature Ratio</td>\n",
       "      <td id=\"T_79509_row56_col1\" class=\"data row56 col1\" >False</td>\n",
       "    </tr>\n",
       "    <tr>\n",
       "      <th id=\"T_79509_level0_row57\" class=\"row_heading level0 row57\" >57</th>\n",
       "      <td id=\"T_79509_row57_col0\" class=\"data row57 col0\" >Interaction Threshold</td>\n",
       "      <td id=\"T_79509_row57_col1\" class=\"data row57 col1\" >None</td>\n",
       "    </tr>\n",
       "    <tr>\n",
       "      <th id=\"T_79509_level0_row58\" class=\"row_heading level0 row58\" >58</th>\n",
       "      <td id=\"T_79509_row58_col0\" class=\"data row58 col0\" >Fix Imbalance</td>\n",
       "      <td id=\"T_79509_row58_col1\" class=\"data row58 col1\" >False</td>\n",
       "    </tr>\n",
       "    <tr>\n",
       "      <th id=\"T_79509_level0_row59\" class=\"row_heading level0 row59\" >59</th>\n",
       "      <td id=\"T_79509_row59_col0\" class=\"data row59 col0\" >Fix Imbalance Method</td>\n",
       "      <td id=\"T_79509_row59_col1\" class=\"data row59 col1\" >SMOTE</td>\n",
       "    </tr>\n",
       "  </tbody>\n",
       "</table>\n"
      ],
      "text/plain": [
       "<pandas.io.formats.style.Styler at 0x7f56da643dc0>"
      ]
     },
     "metadata": {},
     "output_type": "display_data"
    }
   ],
   "source": [
    "from pycaret.classification import *\n",
    "s = setup(data, target = 'Purchase')"
   ]
  },
  {
   "cell_type": "code",
   "execution_count": 5,
   "id": "0a9c83ee-a78a-4baa-ab89-8855134ce3e3",
   "metadata": {},
   "outputs": [
    {
     "data": {
      "text/html": [
       "<style type=\"text/css\">\n",
       "#T_c8d8f_ th {\n",
       "  text-align: left;\n",
       "}\n",
       "#T_c8d8f_row0_col0, #T_c8d8f_row0_col2, #T_c8d8f_row0_col3, #T_c8d8f_row0_col4, #T_c8d8f_row1_col0, #T_c8d8f_row1_col1, #T_c8d8f_row1_col3, #T_c8d8f_row1_col4, #T_c8d8f_row1_col5, #T_c8d8f_row1_col6, #T_c8d8f_row1_col7, #T_c8d8f_row2_col0, #T_c8d8f_row2_col1, #T_c8d8f_row2_col2, #T_c8d8f_row2_col3, #T_c8d8f_row2_col5, #T_c8d8f_row2_col6, #T_c8d8f_row2_col7, #T_c8d8f_row3_col0, #T_c8d8f_row3_col1, #T_c8d8f_row3_col2, #T_c8d8f_row3_col3, #T_c8d8f_row3_col4, #T_c8d8f_row3_col5, #T_c8d8f_row3_col6, #T_c8d8f_row3_col7, #T_c8d8f_row4_col0, #T_c8d8f_row4_col1, #T_c8d8f_row4_col2, #T_c8d8f_row4_col3, #T_c8d8f_row4_col4, #T_c8d8f_row4_col5, #T_c8d8f_row4_col6, #T_c8d8f_row4_col7, #T_c8d8f_row5_col0, #T_c8d8f_row5_col1, #T_c8d8f_row5_col2, #T_c8d8f_row5_col3, #T_c8d8f_row5_col4, #T_c8d8f_row5_col5, #T_c8d8f_row5_col6, #T_c8d8f_row5_col7, #T_c8d8f_row6_col0, #T_c8d8f_row6_col1, #T_c8d8f_row6_col2, #T_c8d8f_row6_col3, #T_c8d8f_row6_col4, #T_c8d8f_row6_col5, #T_c8d8f_row6_col6, #T_c8d8f_row6_col7, #T_c8d8f_row7_col0, #T_c8d8f_row7_col1, #T_c8d8f_row7_col2, #T_c8d8f_row7_col3, #T_c8d8f_row7_col4, #T_c8d8f_row7_col5, #T_c8d8f_row7_col6, #T_c8d8f_row7_col7, #T_c8d8f_row8_col0, #T_c8d8f_row8_col1, #T_c8d8f_row8_col2, #T_c8d8f_row8_col3, #T_c8d8f_row8_col4, #T_c8d8f_row8_col5, #T_c8d8f_row8_col6, #T_c8d8f_row8_col7, #T_c8d8f_row9_col0, #T_c8d8f_row9_col1, #T_c8d8f_row9_col2, #T_c8d8f_row9_col3, #T_c8d8f_row9_col4, #T_c8d8f_row9_col5, #T_c8d8f_row9_col6, #T_c8d8f_row9_col7, #T_c8d8f_row10_col0, #T_c8d8f_row10_col1, #T_c8d8f_row10_col2, #T_c8d8f_row10_col3, #T_c8d8f_row10_col4, #T_c8d8f_row10_col5, #T_c8d8f_row10_col6, #T_c8d8f_row10_col7, #T_c8d8f_row11_col0, #T_c8d8f_row11_col1, #T_c8d8f_row11_col2, #T_c8d8f_row11_col3, #T_c8d8f_row11_col4, #T_c8d8f_row11_col5, #T_c8d8f_row11_col6, #T_c8d8f_row11_col7, #T_c8d8f_row12_col0, #T_c8d8f_row12_col1, #T_c8d8f_row12_col2, #T_c8d8f_row12_col4, #T_c8d8f_row12_col5, #T_c8d8f_row12_col6, #T_c8d8f_row12_col7, #T_c8d8f_row13_col0, #T_c8d8f_row13_col1, #T_c8d8f_row13_col2, #T_c8d8f_row13_col3, #T_c8d8f_row13_col4, #T_c8d8f_row13_col5, #T_c8d8f_row13_col6, #T_c8d8f_row13_col7, #T_c8d8f_row14_col0, #T_c8d8f_row14_col1, #T_c8d8f_row14_col2, #T_c8d8f_row14_col3, #T_c8d8f_row14_col4, #T_c8d8f_row14_col5, #T_c8d8f_row14_col6, #T_c8d8f_row14_col7, #T_c8d8f_row15_col0, #T_c8d8f_row15_col1, #T_c8d8f_row15_col2, #T_c8d8f_row15_col3, #T_c8d8f_row15_col4, #T_c8d8f_row15_col5, #T_c8d8f_row15_col6, #T_c8d8f_row15_col7 {\n",
       "  text-align: left;\n",
       "}\n",
       "#T_c8d8f_row0_col1, #T_c8d8f_row0_col5, #T_c8d8f_row0_col6, #T_c8d8f_row0_col7, #T_c8d8f_row1_col2, #T_c8d8f_row2_col4, #T_c8d8f_row12_col3 {\n",
       "  text-align: left;\n",
       "  background-color: yellow;\n",
       "}\n",
       "#T_c8d8f_row0_col8, #T_c8d8f_row1_col8, #T_c8d8f_row2_col8, #T_c8d8f_row3_col8, #T_c8d8f_row4_col8, #T_c8d8f_row5_col8, #T_c8d8f_row6_col8, #T_c8d8f_row7_col8, #T_c8d8f_row8_col8, #T_c8d8f_row9_col8, #T_c8d8f_row10_col8, #T_c8d8f_row11_col8, #T_c8d8f_row12_col8, #T_c8d8f_row13_col8, #T_c8d8f_row15_col8 {\n",
       "  text-align: left;\n",
       "  background-color: lightgrey;\n",
       "}\n",
       "#T_c8d8f_row14_col8 {\n",
       "  text-align: left;\n",
       "  background-color: yellow;\n",
       "  background-color: lightgrey;\n",
       "}\n",
       "</style>\n",
       "<table id=\"T_c8d8f_\">\n",
       "  <thead>\n",
       "    <tr>\n",
       "      <th class=\"blank level0\" >&nbsp;</th>\n",
       "      <th class=\"col_heading level0 col0\" >Model</th>\n",
       "      <th class=\"col_heading level0 col1\" >Accuracy</th>\n",
       "      <th class=\"col_heading level0 col2\" >AUC</th>\n",
       "      <th class=\"col_heading level0 col3\" >Recall</th>\n",
       "      <th class=\"col_heading level0 col4\" >Prec.</th>\n",
       "      <th class=\"col_heading level0 col5\" >F1</th>\n",
       "      <th class=\"col_heading level0 col6\" >Kappa</th>\n",
       "      <th class=\"col_heading level0 col7\" >MCC</th>\n",
       "      <th class=\"col_heading level0 col8\" >TT (Sec)</th>\n",
       "    </tr>\n",
       "  </thead>\n",
       "  <tbody>\n",
       "    <tr>\n",
       "      <th id=\"T_c8d8f_level0_row0\" class=\"row_heading level0 row0\" >ridge</th>\n",
       "      <td id=\"T_c8d8f_row0_col0\" class=\"data row0 col0\" >Ridge Classifier</td>\n",
       "      <td id=\"T_c8d8f_row0_col1\" class=\"data row0 col1\" >0.8329</td>\n",
       "      <td id=\"T_c8d8f_row0_col2\" class=\"data row0 col2\" >0.0000</td>\n",
       "      <td id=\"T_c8d8f_row0_col3\" class=\"data row0 col3\" >0.7738</td>\n",
       "      <td id=\"T_c8d8f_row0_col4\" class=\"data row0 col4\" >0.7954</td>\n",
       "      <td id=\"T_c8d8f_row0_col5\" class=\"data row0 col5\" >0.7795</td>\n",
       "      <td id=\"T_c8d8f_row0_col6\" class=\"data row0 col6\" >0.6457</td>\n",
       "      <td id=\"T_c8d8f_row0_col7\" class=\"data row0 col7\" >0.6513</td>\n",
       "      <td id=\"T_c8d8f_row0_col8\" class=\"data row0 col8\" >0.0050</td>\n",
       "    </tr>\n",
       "    <tr>\n",
       "      <th id=\"T_c8d8f_level0_row1\" class=\"row_heading level0 row1\" >lda</th>\n",
       "      <td id=\"T_c8d8f_row1_col0\" class=\"data row1 col0\" >Linear Discriminant Analysis</td>\n",
       "      <td id=\"T_c8d8f_row1_col1\" class=\"data row1 col1\" >0.8315</td>\n",
       "      <td id=\"T_c8d8f_row1_col2\" class=\"data row1 col2\" >0.8939</td>\n",
       "      <td id=\"T_c8d8f_row1_col3\" class=\"data row1 col3\" >0.7703</td>\n",
       "      <td id=\"T_c8d8f_row1_col4\" class=\"data row1 col4\" >0.7945</td>\n",
       "      <td id=\"T_c8d8f_row1_col5\" class=\"data row1 col5\" >0.7768</td>\n",
       "      <td id=\"T_c8d8f_row1_col6\" class=\"data row1 col6\" >0.6423</td>\n",
       "      <td id=\"T_c8d8f_row1_col7\" class=\"data row1 col7\" >0.6486</td>\n",
       "      <td id=\"T_c8d8f_row1_col8\" class=\"data row1 col8\" >0.0060</td>\n",
       "    </tr>\n",
       "    <tr>\n",
       "      <th id=\"T_c8d8f_level0_row2\" class=\"row_heading level0 row2\" >lr</th>\n",
       "      <td id=\"T_c8d8f_row2_col0\" class=\"data row2 col0\" >Logistic Regression</td>\n",
       "      <td id=\"T_c8d8f_row2_col1\" class=\"data row2 col1\" >0.8262</td>\n",
       "      <td id=\"T_c8d8f_row2_col2\" class=\"data row2 col2\" >0.8911</td>\n",
       "      <td id=\"T_c8d8f_row2_col3\" class=\"data row2 col3\" >0.7424</td>\n",
       "      <td id=\"T_c8d8f_row2_col4\" class=\"data row2 col4\" >0.7995</td>\n",
       "      <td id=\"T_c8d8f_row2_col5\" class=\"data row2 col5\" >0.7652</td>\n",
       "      <td id=\"T_c8d8f_row2_col6\" class=\"data row2 col6\" >0.6282</td>\n",
       "      <td id=\"T_c8d8f_row2_col7\" class=\"data row2 col7\" >0.6340</td>\n",
       "      <td id=\"T_c8d8f_row2_col8\" class=\"data row2 col8\" >0.3970</td>\n",
       "    </tr>\n",
       "    <tr>\n",
       "      <th id=\"T_c8d8f_level0_row3\" class=\"row_heading level0 row3\" >ada</th>\n",
       "      <td id=\"T_c8d8f_row3_col0\" class=\"data row3 col0\" >Ada Boost Classifier</td>\n",
       "      <td id=\"T_c8d8f_row3_col1\" class=\"data row3 col1\" >0.8261</td>\n",
       "      <td id=\"T_c8d8f_row3_col2\" class=\"data row3 col2\" >0.8758</td>\n",
       "      <td id=\"T_c8d8f_row3_col3\" class=\"data row3 col3\" >0.7522</td>\n",
       "      <td id=\"T_c8d8f_row3_col4\" class=\"data row3 col4\" >0.7934</td>\n",
       "      <td id=\"T_c8d8f_row3_col5\" class=\"data row3 col5\" >0.7684</td>\n",
       "      <td id=\"T_c8d8f_row3_col6\" class=\"data row3 col6\" >0.6297</td>\n",
       "      <td id=\"T_c8d8f_row3_col7\" class=\"data row3 col7\" >0.6341</td>\n",
       "      <td id=\"T_c8d8f_row3_col8\" class=\"data row3 col8\" >0.0450</td>\n",
       "    </tr>\n",
       "    <tr>\n",
       "      <th id=\"T_c8d8f_level0_row4\" class=\"row_heading level0 row4\" >gbc</th>\n",
       "      <td id=\"T_c8d8f_row4_col0\" class=\"data row4 col0\" >Gradient Boosting Classifier</td>\n",
       "      <td id=\"T_c8d8f_row4_col1\" class=\"data row4 col1\" >0.8221</td>\n",
       "      <td id=\"T_c8d8f_row4_col2\" class=\"data row4 col2\" >0.8850</td>\n",
       "      <td id=\"T_c8d8f_row4_col3\" class=\"data row4 col3\" >0.7701</td>\n",
       "      <td id=\"T_c8d8f_row4_col4\" class=\"data row4 col4\" >0.7784</td>\n",
       "      <td id=\"T_c8d8f_row4_col5\" class=\"data row4 col5\" >0.7690</td>\n",
       "      <td id=\"T_c8d8f_row4_col6\" class=\"data row4 col6\" >0.6252</td>\n",
       "      <td id=\"T_c8d8f_row4_col7\" class=\"data row4 col7\" >0.6308</td>\n",
       "      <td id=\"T_c8d8f_row4_col8\" class=\"data row4 col8\" >0.0530</td>\n",
       "    </tr>\n",
       "    <tr>\n",
       "      <th id=\"T_c8d8f_level0_row5\" class=\"row_heading level0 row5\" >catboost</th>\n",
       "      <td id=\"T_c8d8f_row5_col0\" class=\"data row5 col0\" >CatBoost Classifier</td>\n",
       "      <td id=\"T_c8d8f_row5_col1\" class=\"data row5 col1\" >0.8114</td>\n",
       "      <td id=\"T_c8d8f_row5_col2\" class=\"data row5 col2\" >0.8894</td>\n",
       "      <td id=\"T_c8d8f_row5_col3\" class=\"data row5 col3\" >0.7491</td>\n",
       "      <td id=\"T_c8d8f_row5_col4\" class=\"data row5 col4\" >0.7651</td>\n",
       "      <td id=\"T_c8d8f_row5_col5\" class=\"data row5 col5\" >0.7532</td>\n",
       "      <td id=\"T_c8d8f_row5_col6\" class=\"data row5 col6\" >0.6012</td>\n",
       "      <td id=\"T_c8d8f_row5_col7\" class=\"data row5 col7\" >0.6054</td>\n",
       "      <td id=\"T_c8d8f_row5_col8\" class=\"data row5 col8\" >0.8320</td>\n",
       "    </tr>\n",
       "    <tr>\n",
       "      <th id=\"T_c8d8f_level0_row6\" class=\"row_heading level0 row6\" >lightgbm</th>\n",
       "      <td id=\"T_c8d8f_row6_col0\" class=\"data row6 col0\" >Light Gradient Boosting Machine</td>\n",
       "      <td id=\"T_c8d8f_row6_col1\" class=\"data row6 col1\" >0.8021</td>\n",
       "      <td id=\"T_c8d8f_row6_col2\" class=\"data row6 col2\" >0.8712</td>\n",
       "      <td id=\"T_c8d8f_row6_col3\" class=\"data row6 col3\" >0.7494</td>\n",
       "      <td id=\"T_c8d8f_row6_col4\" class=\"data row6 col4\" >0.7454</td>\n",
       "      <td id=\"T_c8d8f_row6_col5\" class=\"data row6 col5\" >0.7432</td>\n",
       "      <td id=\"T_c8d8f_row6_col6\" class=\"data row6 col6\" >0.5828</td>\n",
       "      <td id=\"T_c8d8f_row6_col7\" class=\"data row6 col7\" >0.5873</td>\n",
       "      <td id=\"T_c8d8f_row6_col8\" class=\"data row6 col8\" >0.0320</td>\n",
       "    </tr>\n",
       "    <tr>\n",
       "      <th id=\"T_c8d8f_level0_row7\" class=\"row_heading level0 row7\" >xgboost</th>\n",
       "      <td id=\"T_c8d8f_row7_col0\" class=\"data row7 col0\" >Extreme Gradient Boosting</td>\n",
       "      <td id=\"T_c8d8f_row7_col1\" class=\"data row7 col1\" >0.7981</td>\n",
       "      <td id=\"T_c8d8f_row7_col2\" class=\"data row7 col2\" >0.8642</td>\n",
       "      <td id=\"T_c8d8f_row7_col3\" class=\"data row7 col3\" >0.7355</td>\n",
       "      <td id=\"T_c8d8f_row7_col4\" class=\"data row7 col4\" >0.7455</td>\n",
       "      <td id=\"T_c8d8f_row7_col5\" class=\"data row7 col5\" >0.7352</td>\n",
       "      <td id=\"T_c8d8f_row7_col6\" class=\"data row7 col6\" >0.5729</td>\n",
       "      <td id=\"T_c8d8f_row7_col7\" class=\"data row7 col7\" >0.5782</td>\n",
       "      <td id=\"T_c8d8f_row7_col8\" class=\"data row7 col8\" >0.1370</td>\n",
       "    </tr>\n",
       "    <tr>\n",
       "      <th id=\"T_c8d8f_level0_row8\" class=\"row_heading level0 row8\" >rf</th>\n",
       "      <td id=\"T_c8d8f_row8_col0\" class=\"data row8 col0\" >Random Forest Classifier</td>\n",
       "      <td id=\"T_c8d8f_row8_col1\" class=\"data row8 col1\" >0.7926</td>\n",
       "      <td id=\"T_c8d8f_row8_col2\" class=\"data row8 col2\" >0.8621</td>\n",
       "      <td id=\"T_c8d8f_row8_col3\" class=\"data row8 col3\" >0.7383</td>\n",
       "      <td id=\"T_c8d8f_row8_col4\" class=\"data row8 col4\" >0.7309</td>\n",
       "      <td id=\"T_c8d8f_row8_col5\" class=\"data row8 col5\" >0.7311</td>\n",
       "      <td id=\"T_c8d8f_row8_col6\" class=\"data row8 col6\" >0.5628</td>\n",
       "      <td id=\"T_c8d8f_row8_col7\" class=\"data row8 col7\" >0.5666</td>\n",
       "      <td id=\"T_c8d8f_row8_col8\" class=\"data row8 col8\" >0.1300</td>\n",
       "    </tr>\n",
       "    <tr>\n",
       "      <th id=\"T_c8d8f_level0_row9\" class=\"row_heading level0 row9\" >et</th>\n",
       "      <td id=\"T_c8d8f_row9_col0\" class=\"data row9 col0\" >Extra Trees Classifier</td>\n",
       "      <td id=\"T_c8d8f_row9_col1\" class=\"data row9 col1\" >0.7752</td>\n",
       "      <td id=\"T_c8d8f_row9_col2\" class=\"data row9 col2\" >0.8313</td>\n",
       "      <td id=\"T_c8d8f_row9_col3\" class=\"data row9 col3\" >0.7000</td>\n",
       "      <td id=\"T_c8d8f_row9_col4\" class=\"data row9 col4\" >0.7144</td>\n",
       "      <td id=\"T_c8d8f_row9_col5\" class=\"data row9 col5\" >0.7021</td>\n",
       "      <td id=\"T_c8d8f_row9_col6\" class=\"data row9 col6\" >0.5224</td>\n",
       "      <td id=\"T_c8d8f_row9_col7\" class=\"data row9 col7\" >0.5273</td>\n",
       "      <td id=\"T_c8d8f_row9_col8\" class=\"data row9 col8\" >0.1140</td>\n",
       "    </tr>\n",
       "    <tr>\n",
       "      <th id=\"T_c8d8f_level0_row10\" class=\"row_heading level0 row10\" >dt</th>\n",
       "      <td id=\"T_c8d8f_row10_col0\" class=\"data row10 col0\" >Decision Tree Classifier</td>\n",
       "      <td id=\"T_c8d8f_row10_col1\" class=\"data row10 col1\" >0.7686</td>\n",
       "      <td id=\"T_c8d8f_row10_col2\" class=\"data row10 col2\" >0.7617</td>\n",
       "      <td id=\"T_c8d8f_row10_col3\" class=\"data row10 col3\" >0.7318</td>\n",
       "      <td id=\"T_c8d8f_row10_col4\" class=\"data row10 col4\" >0.6900</td>\n",
       "      <td id=\"T_c8d8f_row10_col5\" class=\"data row10 col5\" >0.7077</td>\n",
       "      <td id=\"T_c8d8f_row10_col6\" class=\"data row10 col6\" >0.5171</td>\n",
       "      <td id=\"T_c8d8f_row10_col7\" class=\"data row10 col7\" >0.5206</td>\n",
       "      <td id=\"T_c8d8f_row10_col8\" class=\"data row10 col8\" >0.0060</td>\n",
       "    </tr>\n",
       "    <tr>\n",
       "      <th id=\"T_c8d8f_level0_row11\" class=\"row_heading level0 row11\" >nb</th>\n",
       "      <td id=\"T_c8d8f_row11_col0\" class=\"data row11 col0\" >Naive Bayes</td>\n",
       "      <td id=\"T_c8d8f_row11_col1\" class=\"data row11 col1\" >0.7565</td>\n",
       "      <td id=\"T_c8d8f_row11_col2\" class=\"data row11 col2\" >0.8366</td>\n",
       "      <td id=\"T_c8d8f_row11_col3\" class=\"data row11 col3\" >0.7522</td>\n",
       "      <td id=\"T_c8d8f_row11_col4\" class=\"data row11 col4\" >0.6661</td>\n",
       "      <td id=\"T_c8d8f_row11_col5\" class=\"data row11 col5\" >0.7041</td>\n",
       "      <td id=\"T_c8d8f_row11_col6\" class=\"data row11 col6\" >0.4994</td>\n",
       "      <td id=\"T_c8d8f_row11_col7\" class=\"data row11 col7\" >0.5045</td>\n",
       "      <td id=\"T_c8d8f_row11_col8\" class=\"data row11 col8\" >0.0050</td>\n",
       "    </tr>\n",
       "    <tr>\n",
       "      <th id=\"T_c8d8f_level0_row12\" class=\"row_heading level0 row12\" >qda</th>\n",
       "      <td id=\"T_c8d8f_row12_col0\" class=\"data row12 col0\" >Quadratic Discriminant Analysis</td>\n",
       "      <td id=\"T_c8d8f_row12_col1\" class=\"data row12 col1\" >0.7526</td>\n",
       "      <td id=\"T_c8d8f_row12_col2\" class=\"data row12 col2\" >0.8112</td>\n",
       "      <td id=\"T_c8d8f_row12_col3\" class=\"data row12 col3\" >0.7771</td>\n",
       "      <td id=\"T_c8d8f_row12_col4\" class=\"data row12 col4\" >0.6514</td>\n",
       "      <td id=\"T_c8d8f_row12_col5\" class=\"data row12 col5\" >0.7055</td>\n",
       "      <td id=\"T_c8d8f_row12_col6\" class=\"data row12 col6\" >0.4957</td>\n",
       "      <td id=\"T_c8d8f_row12_col7\" class=\"data row12 col7\" >0.5058</td>\n",
       "      <td id=\"T_c8d8f_row12_col8\" class=\"data row12 col8\" >0.0060</td>\n",
       "    </tr>\n",
       "    <tr>\n",
       "      <th id=\"T_c8d8f_level0_row13\" class=\"row_heading level0 row13\" >knn</th>\n",
       "      <td id=\"T_c8d8f_row13_col0\" class=\"data row13 col0\" >K Neighbors Classifier</td>\n",
       "      <td id=\"T_c8d8f_row13_col1\" class=\"data row13 col1\" >0.7179</td>\n",
       "      <td id=\"T_c8d8f_row13_col2\" class=\"data row13 col2\" >0.7658</td>\n",
       "      <td id=\"T_c8d8f_row13_col3\" class=\"data row13 col3\" >0.5642</td>\n",
       "      <td id=\"T_c8d8f_row13_col4\" class=\"data row13 col4\" >0.6530</td>\n",
       "      <td id=\"T_c8d8f_row13_col5\" class=\"data row13 col5\" >0.6006</td>\n",
       "      <td id=\"T_c8d8f_row13_col6\" class=\"data row13 col6\" >0.3860</td>\n",
       "      <td id=\"T_c8d8f_row13_col7\" class=\"data row13 col7\" >0.3911</td>\n",
       "      <td id=\"T_c8d8f_row13_col8\" class=\"data row13 col8\" >0.0110</td>\n",
       "    </tr>\n",
       "    <tr>\n",
       "      <th id=\"T_c8d8f_level0_row14\" class=\"row_heading level0 row14\" >dummy</th>\n",
       "      <td id=\"T_c8d8f_row14_col0\" class=\"data row14 col0\" >Dummy Classifier</td>\n",
       "      <td id=\"T_c8d8f_row14_col1\" class=\"data row14 col1\" >0.6163</td>\n",
       "      <td id=\"T_c8d8f_row14_col2\" class=\"data row14 col2\" >0.5000</td>\n",
       "      <td id=\"T_c8d8f_row14_col3\" class=\"data row14 col3\" >0.0000</td>\n",
       "      <td id=\"T_c8d8f_row14_col4\" class=\"data row14 col4\" >0.0000</td>\n",
       "      <td id=\"T_c8d8f_row14_col5\" class=\"data row14 col5\" >0.0000</td>\n",
       "      <td id=\"T_c8d8f_row14_col6\" class=\"data row14 col6\" >0.0000</td>\n",
       "      <td id=\"T_c8d8f_row14_col7\" class=\"data row14 col7\" >0.0000</td>\n",
       "      <td id=\"T_c8d8f_row14_col8\" class=\"data row14 col8\" >0.0040</td>\n",
       "    </tr>\n",
       "    <tr>\n",
       "      <th id=\"T_c8d8f_level0_row15\" class=\"row_heading level0 row15\" >svm</th>\n",
       "      <td id=\"T_c8d8f_row15_col0\" class=\"data row15 col0\" >SVM - Linear Kernel</td>\n",
       "      <td id=\"T_c8d8f_row15_col1\" class=\"data row15 col1\" >0.5890</td>\n",
       "      <td id=\"T_c8d8f_row15_col2\" class=\"data row15 col2\" >0.0000</td>\n",
       "      <td id=\"T_c8d8f_row15_col3\" class=\"data row15 col3\" >0.2724</td>\n",
       "      <td id=\"T_c8d8f_row15_col4\" class=\"data row15 col4\" >0.1564</td>\n",
       "      <td id=\"T_c8d8f_row15_col5\" class=\"data row15 col5\" >0.1862</td>\n",
       "      <td id=\"T_c8d8f_row15_col6\" class=\"data row15 col6\" >0.0627</td>\n",
       "      <td id=\"T_c8d8f_row15_col7\" class=\"data row15 col7\" >0.0630</td>\n",
       "      <td id=\"T_c8d8f_row15_col8\" class=\"data row15 col8\" >0.0070</td>\n",
       "    </tr>\n",
       "  </tbody>\n",
       "</table>\n"
      ],
      "text/plain": [
       "<pandas.io.formats.style.Styler at 0x7f56da630550>"
      ]
     },
     "metadata": {},
     "output_type": "display_data"
    }
   ],
   "source": [
    "best = compare_models()"
   ]
  },
  {
   "cell_type": "code",
   "execution_count": 6,
   "id": "0c778ded-d2bd-45ad-bd0e-e2737dbf1380",
   "metadata": {},
   "outputs": [
    {
     "data": {
      "application/vnd.jupyter.widget-view+json": {
       "model_id": "aa2d54a904864fbfa8665eabed9fddb4",
       "version_major": 2,
       "version_minor": 0
      },
      "text/plain": [
       "interactive(children=(ToggleButtons(description='Plot Type:', icons=('',), options=(('Hyperparameters', 'param…"
      ]
     },
     "metadata": {},
     "output_type": "display_data"
    }
   ],
   "source": [
    "evaluate_model(best)"
   ]
  },
  {
   "cell_type": "code",
   "execution_count": 9,
   "id": "c80ccf6d-768d-4da7-8518-f6c8c75e64e0",
   "metadata": {},
   "outputs": [],
   "source": [
    "import gensim"
   ]
  },
  {
   "cell_type": "code",
   "execution_count": 10,
   "id": "d26a7dff-6e3c-4565-8287-a3b2e63a4ffe",
   "metadata": {},
   "outputs": [],
   "source": [
    "import en_core_web_sm\n",
    "#!python -m spacy download en_core_web_sm\n"
   ]
  },
  {
   "cell_type": "code",
   "execution_count": 11,
   "id": "f05b33b4-791d-4579-a8e4-3a418a458dc5",
   "metadata": {},
   "outputs": [],
   "source": [
    "\n",
    "nlp = en_core_web_sm.load()\n"
   ]
  },
  {
   "cell_type": "code",
   "execution_count": 1,
   "id": "547116ca-4fa8-4719-9908-75f7e73ec174",
   "metadata": {},
   "outputs": [],
   "source": [
    "# load dataset\n",
    "#from pycaret.datasets import get_data\n",
    "#data = get_data('kiva')\n",
    "\n",
    "import pandas as pd\n",
    "data = pd.read_csv('https://www.dropbox.com/s/zk9izrgqztotoah/Women_Clothing_Reviews.csv?dl=1')\n"
   ]
  },
  {
   "cell_type": "code",
   "execution_count": 2,
   "id": "fd299668-5362-4b68-9df1-a0885e64ac86",
   "metadata": {},
   "outputs": [
    {
     "data": {
      "text/html": [
       "<style type=\"text/css\">\n",
       "</style>\n",
       "<table id=\"T_aa80b_\">\n",
       "  <thead>\n",
       "    <tr>\n",
       "      <th class=\"col_heading level0 col0\" >Description</th>\n",
       "      <th class=\"col_heading level0 col1\" >Value</th>\n",
       "    </tr>\n",
       "  </thead>\n",
       "  <tbody>\n",
       "    <tr>\n",
       "      <td id=\"T_aa80b_row0_col0\" class=\"data row0 col0\" >session_id</td>\n",
       "      <td id=\"T_aa80b_row0_col1\" class=\"data row0 col1\" >8244</td>\n",
       "    </tr>\n",
       "    <tr>\n",
       "      <td id=\"T_aa80b_row1_col0\" class=\"data row1 col0\" >Documents</td>\n",
       "      <td id=\"T_aa80b_row1_col1\" class=\"data row1 col1\" >23486</td>\n",
       "    </tr>\n",
       "    <tr>\n",
       "      <td id=\"T_aa80b_row2_col0\" class=\"data row2 col0\" >Vocab Size</td>\n",
       "      <td id=\"T_aa80b_row2_col1\" class=\"data row2 col1\" >9659</td>\n",
       "    </tr>\n",
       "    <tr>\n",
       "      <td id=\"T_aa80b_row3_col0\" class=\"data row3 col0\" >Custom Stopwords</td>\n",
       "      <td id=\"T_aa80b_row3_col1\" class=\"data row3 col1\" >False</td>\n",
       "    </tr>\n",
       "  </tbody>\n",
       "</table>\n"
      ],
      "text/plain": [
       "<pandas.io.formats.style.Styler at 0x7f8413704220>"
      ]
     },
     "metadata": {},
     "output_type": "display_data"
    }
   ],
   "source": [
    "# init setup\n",
    "from pycaret.nlp import *\n",
    "s = setup(data, target = 'ReviewText')"
   ]
  },
  {
   "cell_type": "code",
   "execution_count": 4,
   "id": "1dee02b2-9fef-4c8c-98a5-f75c1bc81d9a",
   "metadata": {},
   "outputs": [
    {
     "name": "stdout",
     "output_type": "stream",
     "text": [
      "LdaModel(num_terms=9659, num_topics=4, decay=0.5, chunksize=100)\n"
     ]
    }
   ],
   "source": [
    "lda = create_model('lda')\n",
    "print(lda)"
   ]
  },
  {
   "cell_type": "code",
   "execution_count": null,
   "id": "435bcf22-7ed6-4a81-a529-6a3044a8a4b6",
   "metadata": {},
   "outputs": [
    {
     "data": {
      "text/html": [
       "        <script type=\"text/javascript\">\n",
       "        window.PlotlyConfig = {MathJaxConfig: 'local'};\n",
       "        if (window.MathJax) {MathJax.Hub.Config({SVG: {font: \"STIX-Web\"}});}\n",
       "        if (typeof require !== 'undefined') {\n",
       "        require.undef(\"plotly\");\n",
       "        requirejs.config({\n",
       "            paths: {\n",
       "                'plotly': ['https://cdn.plot.ly/plotly-2.11.1.min']\n",
       "            }\n",
       "        });\n",
       "        require(['plotly'], function(Plotly) {\n",
       "            window._Plotly = Plotly;\n",
       "        });\n",
       "        }\n",
       "        </script>\n",
       "        "
      ]
     },
     "metadata": {},
     "output_type": "display_data"
    }
   ],
   "source": [
    "plot_model(lda, plot = 'frequency')"
   ]
  },
  {
   "cell_type": "code",
   "execution_count": 5,
   "id": "d62109dc-2631-4b5a-b408-5a93b1689d3c",
   "metadata": {},
   "outputs": [
    {
     "data": {
      "text/html": [
       "        <script type=\"text/javascript\">\n",
       "        window.PlotlyConfig = {MathJaxConfig: 'local'};\n",
       "        if (window.MathJax) {MathJax.Hub.Config({SVG: {font: \"STIX-Web\"}});}\n",
       "        if (typeof require !== 'undefined') {\n",
       "        require.undef(\"plotly\");\n",
       "        requirejs.config({\n",
       "            paths: {\n",
       "                'plotly': ['https://cdn.plot.ly/plotly-2.11.1.min']\n",
       "            }\n",
       "        });\n",
       "        require(['plotly'], function(Plotly) {\n",
       "            window._Plotly = Plotly;\n",
       "        });\n",
       "        }\n",
       "        </script>\n",
       "        "
      ]
     },
     "metadata": {},
     "output_type": "display_data"
    },
    {
     "data": {
      "application/vnd.plotly.v1+json": {
       "config": {
        "linkText": "Export to plot.ly",
        "plotlyServerURL": "https://plot.ly",
        "showLink": true
       },
       "data": [
        {
         "histfunc": "count",
         "histnorm": "",
         "marker": {
          "color": "rgba(255, 153, 51, 1.0)",
          "line": {
           "color": "#000000",
           "width": 1.3
          }
         },
         "name": "en",
         "nbinsx": 50,
         "opacity": 0.8,
         "orientation": "v",
         "type": "histogram",
         "x": [
          0.7,
          0.16239669421487601,
          -0.009999999999999998,
          0,
          0,
          0,
          0.15718923933209644,
          0.10997474747474746,
          0.043636363636363654,
          0.13997668997668997,
          0.051303620621802444,
          0.03797979797979798,
          0.08888888888888889,
          0.11052188552188552,
          0.11212121212121211,
          0.13300189393939396,
          0.09861111111111111,
          0.005568181818181826,
          0.04027777777777778,
          0.14567099567099567,
          0.1060515873015873,
          0.1447811447811448,
          0.13186868686868686,
          0.18925189393939396,
          0.07413911845730027,
          0.03356643356643358,
          0.1380952380952381,
          0.14393939393939392,
          0.2527777777777778,
          0.13474025974025974,
          0.1543560606060606,
          0.15164141414141413,
          0.1005151515151515,
          0.15303030303030304,
          0.1451569264069264,
          0.13654040404040405,
          0.12074592074592073,
          0.08422348484848485,
          0.10164141414141413,
          0.14188311688311686,
          0.07496810207336523,
          0.09285353535353534,
          0.17543290043290044,
          0.11233766233766233,
          0.1638888888888889,
          0.14385964912280702,
          0.05589225589225588,
          0.22999999999999998,
          -0.051515151515151514,
          0.023636363636363643,
          0.09084415584415582,
          0.16131313131313132,
          0.08038636363636363,
          0.15303030303030304,
          0.21830808080808084,
          0.0984848484848485,
          0.09322344322344324,
          0.1318001443001443,
          0.18579545454545454,
          0.19330808080808082,
          0.10854978354978355,
          0.08816919191919192,
          0.12986631016042782,
          0.18148148148148147,
          -0.024999999999999994,
          0.05863636363636364,
          0.13248106060606063,
          0.18373737373737375,
          0.1805785123966942,
          0.17843822843822846,
          0.09478114478114479,
          0.10446022727272726,
          0.09382284382284382,
          0.16542699724517906,
          0.19876033057851242,
          0.09508522727272727,
          0.14593837535014006,
          0.12142857142857144,
          0.1111111111111111,
          0.11598330241187384,
          0.11754079254079253,
          0.12662337662337664,
          0.14659090909090908,
          0.1351566080977846,
          0.18472222222222223,
          0.07222222222222222,
          0.13020833333333334,
          0.17856818181818185,
          0.15164141414141413,
          0.18354978354978355,
          0.11383522727272728,
          0.1318181818181818,
          0.19444444444444445,
          0.13996212121212123,
          0.11506238859180035,
          0.16212121212121214,
          0.07626262626262628,
          0.12142857142857144,
          0.08164884135472371,
          0.17125850340136056,
          0.07860795454545455,
          0.038429752066115715,
          0.09735795454545453,
          0.12487373737373739,
          0.11694214876033056,
          0.04612689393939394,
          0.13462908303817395,
          0.14393939393939392,
          0.12186147186147185,
          0.16095571095571096,
          0.14487179487179486,
          0.15536130536130538,
          0.13797979797979798,
          0.09285353535353535,
          0.15997474747474746,
          0.10635416666666665,
          0.17863636363636362,
          0.10769480519480519,
          0.1396694214876033,
          0.09166666666666667,
          0.1085681818181818,
          -0.008333333333333323,
          0.12006493506493507,
          0.11988413547237077,
          0.18333333333333335,
          0.15242424242424243,
          0.14133838383838385,
          0.1486111111111111,
          0.07497364953886694,
          0.13173295454545453,
          0.12683982683982686,
          0.13497474747474747,
          0.0741841491841492,
          0.16527777777777777,
          0.09301652892561983,
          0.12738927738927738,
          0.09176587301587301,
          0.061111111111111116,
          0.09849282296650717,
          0.023881673881673886,
          0.06212918660287081,
          0.00714285714285715,
          0.1794877344877345,
          0.085,
          0.17983907396950874,
          0.09663636363636363,
          0.09469696969696972,
          0.22023809523809526,
          0.14327651515151515,
          0.0771885521885522,
          0.09415289256198346,
          0.11242424242424241,
          0.08007177033492822,
          0.21200466200466203,
          -0.04259259259259259,
          0.028317384370015953,
          0.14662004662004663,
          0.2545454545454546,
          0.1949125874125874,
          -0.25,
          0.3066666666666667,
          -0.08333333333333333,
          -0.08333333333333333,
          -0.08333333333333333
         ]
        }
       ],
       "layout": {
        "autosize": true,
        "barmode": "overlay",
        "legend": {
         "bgcolor": "#F5F6F9",
         "font": {
          "color": "#4D5663"
         }
        },
        "paper_bgcolor": "#F5F6F9",
        "plot_bgcolor": "#F5F6F9",
        "template": {
         "data": {
          "bar": [
           {
            "error_x": {
             "color": "#2a3f5f"
            },
            "error_y": {
             "color": "#2a3f5f"
            },
            "marker": {
             "line": {
              "color": "#E5ECF6",
              "width": 0.5
             },
             "pattern": {
              "fillmode": "overlay",
              "size": 10,
              "solidity": 0.2
             }
            },
            "type": "bar"
           }
          ],
          "barpolar": [
           {
            "marker": {
             "line": {
              "color": "#E5ECF6",
              "width": 0.5
             },
             "pattern": {
              "fillmode": "overlay",
              "size": 10,
              "solidity": 0.2
             }
            },
            "type": "barpolar"
           }
          ],
          "carpet": [
           {
            "aaxis": {
             "endlinecolor": "#2a3f5f",
             "gridcolor": "white",
             "linecolor": "white",
             "minorgridcolor": "white",
             "startlinecolor": "#2a3f5f"
            },
            "baxis": {
             "endlinecolor": "#2a3f5f",
             "gridcolor": "white",
             "linecolor": "white",
             "minorgridcolor": "white",
             "startlinecolor": "#2a3f5f"
            },
            "type": "carpet"
           }
          ],
          "choropleth": [
           {
            "colorbar": {
             "outlinewidth": 0,
             "ticks": ""
            },
            "type": "choropleth"
           }
          ],
          "contour": [
           {
            "colorbar": {
             "outlinewidth": 0,
             "ticks": ""
            },
            "colorscale": [
             [
              0,
              "#0d0887"
             ],
             [
              0.1111111111111111,
              "#46039f"
             ],
             [
              0.2222222222222222,
              "#7201a8"
             ],
             [
              0.3333333333333333,
              "#9c179e"
             ],
             [
              0.4444444444444444,
              "#bd3786"
             ],
             [
              0.5555555555555556,
              "#d8576b"
             ],
             [
              0.6666666666666666,
              "#ed7953"
             ],
             [
              0.7777777777777778,
              "#fb9f3a"
             ],
             [
              0.8888888888888888,
              "#fdca26"
             ],
             [
              1,
              "#f0f921"
             ]
            ],
            "type": "contour"
           }
          ],
          "contourcarpet": [
           {
            "colorbar": {
             "outlinewidth": 0,
             "ticks": ""
            },
            "type": "contourcarpet"
           }
          ],
          "heatmap": [
           {
            "colorbar": {
             "outlinewidth": 0,
             "ticks": ""
            },
            "colorscale": [
             [
              0,
              "#0d0887"
             ],
             [
              0.1111111111111111,
              "#46039f"
             ],
             [
              0.2222222222222222,
              "#7201a8"
             ],
             [
              0.3333333333333333,
              "#9c179e"
             ],
             [
              0.4444444444444444,
              "#bd3786"
             ],
             [
              0.5555555555555556,
              "#d8576b"
             ],
             [
              0.6666666666666666,
              "#ed7953"
             ],
             [
              0.7777777777777778,
              "#fb9f3a"
             ],
             [
              0.8888888888888888,
              "#fdca26"
             ],
             [
              1,
              "#f0f921"
             ]
            ],
            "type": "heatmap"
           }
          ],
          "heatmapgl": [
           {
            "colorbar": {
             "outlinewidth": 0,
             "ticks": ""
            },
            "colorscale": [
             [
              0,
              "#0d0887"
             ],
             [
              0.1111111111111111,
              "#46039f"
             ],
             [
              0.2222222222222222,
              "#7201a8"
             ],
             [
              0.3333333333333333,
              "#9c179e"
             ],
             [
              0.4444444444444444,
              "#bd3786"
             ],
             [
              0.5555555555555556,
              "#d8576b"
             ],
             [
              0.6666666666666666,
              "#ed7953"
             ],
             [
              0.7777777777777778,
              "#fb9f3a"
             ],
             [
              0.8888888888888888,
              "#fdca26"
             ],
             [
              1,
              "#f0f921"
             ]
            ],
            "type": "heatmapgl"
           }
          ],
          "histogram": [
           {
            "marker": {
             "pattern": {
              "fillmode": "overlay",
              "size": 10,
              "solidity": 0.2
             }
            },
            "type": "histogram"
           }
          ],
          "histogram2d": [
           {
            "colorbar": {
             "outlinewidth": 0,
             "ticks": ""
            },
            "colorscale": [
             [
              0,
              "#0d0887"
             ],
             [
              0.1111111111111111,
              "#46039f"
             ],
             [
              0.2222222222222222,
              "#7201a8"
             ],
             [
              0.3333333333333333,
              "#9c179e"
             ],
             [
              0.4444444444444444,
              "#bd3786"
             ],
             [
              0.5555555555555556,
              "#d8576b"
             ],
             [
              0.6666666666666666,
              "#ed7953"
             ],
             [
              0.7777777777777778,
              "#fb9f3a"
             ],
             [
              0.8888888888888888,
              "#fdca26"
             ],
             [
              1,
              "#f0f921"
             ]
            ],
            "type": "histogram2d"
           }
          ],
          "histogram2dcontour": [
           {
            "colorbar": {
             "outlinewidth": 0,
             "ticks": ""
            },
            "colorscale": [
             [
              0,
              "#0d0887"
             ],
             [
              0.1111111111111111,
              "#46039f"
             ],
             [
              0.2222222222222222,
              "#7201a8"
             ],
             [
              0.3333333333333333,
              "#9c179e"
             ],
             [
              0.4444444444444444,
              "#bd3786"
             ],
             [
              0.5555555555555556,
              "#d8576b"
             ],
             [
              0.6666666666666666,
              "#ed7953"
             ],
             [
              0.7777777777777778,
              "#fb9f3a"
             ],
             [
              0.8888888888888888,
              "#fdca26"
             ],
             [
              1,
              "#f0f921"
             ]
            ],
            "type": "histogram2dcontour"
           }
          ],
          "mesh3d": [
           {
            "colorbar": {
             "outlinewidth": 0,
             "ticks": ""
            },
            "type": "mesh3d"
           }
          ],
          "parcoords": [
           {
            "line": {
             "colorbar": {
              "outlinewidth": 0,
              "ticks": ""
             }
            },
            "type": "parcoords"
           }
          ],
          "pie": [
           {
            "automargin": true,
            "type": "pie"
           }
          ],
          "scatter": [
           {
            "fillpattern": {
             "fillmode": "overlay",
             "size": 10,
             "solidity": 0.2
            },
            "type": "scatter"
           }
          ],
          "scatter3d": [
           {
            "line": {
             "colorbar": {
              "outlinewidth": 0,
              "ticks": ""
             }
            },
            "marker": {
             "colorbar": {
              "outlinewidth": 0,
              "ticks": ""
             }
            },
            "type": "scatter3d"
           }
          ],
          "scattercarpet": [
           {
            "marker": {
             "colorbar": {
              "outlinewidth": 0,
              "ticks": ""
             }
            },
            "type": "scattercarpet"
           }
          ],
          "scattergeo": [
           {
            "marker": {
             "colorbar": {
              "outlinewidth": 0,
              "ticks": ""
             }
            },
            "type": "scattergeo"
           }
          ],
          "scattergl": [
           {
            "marker": {
             "colorbar": {
              "outlinewidth": 0,
              "ticks": ""
             }
            },
            "type": "scattergl"
           }
          ],
          "scattermapbox": [
           {
            "marker": {
             "colorbar": {
              "outlinewidth": 0,
              "ticks": ""
             }
            },
            "type": "scattermapbox"
           }
          ],
          "scatterpolar": [
           {
            "marker": {
             "colorbar": {
              "outlinewidth": 0,
              "ticks": ""
             }
            },
            "type": "scatterpolar"
           }
          ],
          "scatterpolargl": [
           {
            "marker": {
             "colorbar": {
              "outlinewidth": 0,
              "ticks": ""
             }
            },
            "type": "scatterpolargl"
           }
          ],
          "scatterternary": [
           {
            "marker": {
             "colorbar": {
              "outlinewidth": 0,
              "ticks": ""
             }
            },
            "type": "scatterternary"
           }
          ],
          "surface": [
           {
            "colorbar": {
             "outlinewidth": 0,
             "ticks": ""
            },
            "colorscale": [
             [
              0,
              "#0d0887"
             ],
             [
              0.1111111111111111,
              "#46039f"
             ],
             [
              0.2222222222222222,
              "#7201a8"
             ],
             [
              0.3333333333333333,
              "#9c179e"
             ],
             [
              0.4444444444444444,
              "#bd3786"
             ],
             [
              0.5555555555555556,
              "#d8576b"
             ],
             [
              0.6666666666666666,
              "#ed7953"
             ],
             [
              0.7777777777777778,
              "#fb9f3a"
             ],
             [
              0.8888888888888888,
              "#fdca26"
             ],
             [
              1,
              "#f0f921"
             ]
            ],
            "type": "surface"
           }
          ],
          "table": [
           {
            "cells": {
             "fill": {
              "color": "#EBF0F8"
             },
             "line": {
              "color": "white"
             }
            },
            "header": {
             "fill": {
              "color": "#C8D4E3"
             },
             "line": {
              "color": "white"
             }
            },
            "type": "table"
           }
          ]
         },
         "layout": {
          "annotationdefaults": {
           "arrowcolor": "#2a3f5f",
           "arrowhead": 0,
           "arrowwidth": 1
          },
          "autotypenumbers": "strict",
          "coloraxis": {
           "colorbar": {
            "outlinewidth": 0,
            "ticks": ""
           }
          },
          "colorscale": {
           "diverging": [
            [
             0,
             "#8e0152"
            ],
            [
             0.1,
             "#c51b7d"
            ],
            [
             0.2,
             "#de77ae"
            ],
            [
             0.3,
             "#f1b6da"
            ],
            [
             0.4,
             "#fde0ef"
            ],
            [
             0.5,
             "#f7f7f7"
            ],
            [
             0.6,
             "#e6f5d0"
            ],
            [
             0.7,
             "#b8e186"
            ],
            [
             0.8,
             "#7fbc41"
            ],
            [
             0.9,
             "#4d9221"
            ],
            [
             1,
             "#276419"
            ]
           ],
           "sequential": [
            [
             0,
             "#0d0887"
            ],
            [
             0.1111111111111111,
             "#46039f"
            ],
            [
             0.2222222222222222,
             "#7201a8"
            ],
            [
             0.3333333333333333,
             "#9c179e"
            ],
            [
             0.4444444444444444,
             "#bd3786"
            ],
            [
             0.5555555555555556,
             "#d8576b"
            ],
            [
             0.6666666666666666,
             "#ed7953"
            ],
            [
             0.7777777777777778,
             "#fb9f3a"
            ],
            [
             0.8888888888888888,
             "#fdca26"
            ],
            [
             1,
             "#f0f921"
            ]
           ],
           "sequentialminus": [
            [
             0,
             "#0d0887"
            ],
            [
             0.1111111111111111,
             "#46039f"
            ],
            [
             0.2222222222222222,
             "#7201a8"
            ],
            [
             0.3333333333333333,
             "#9c179e"
            ],
            [
             0.4444444444444444,
             "#bd3786"
            ],
            [
             0.5555555555555556,
             "#d8576b"
            ],
            [
             0.6666666666666666,
             "#ed7953"
            ],
            [
             0.7777777777777778,
             "#fb9f3a"
            ],
            [
             0.8888888888888888,
             "#fdca26"
            ],
            [
             1,
             "#f0f921"
            ]
           ]
          },
          "colorway": [
           "#636efa",
           "#EF553B",
           "#00cc96",
           "#ab63fa",
           "#FFA15A",
           "#19d3f3",
           "#FF6692",
           "#B6E880",
           "#FF97FF",
           "#FECB52"
          ],
          "font": {
           "color": "#2a3f5f"
          },
          "geo": {
           "bgcolor": "white",
           "lakecolor": "white",
           "landcolor": "#E5ECF6",
           "showlakes": true,
           "showland": true,
           "subunitcolor": "white"
          },
          "hoverlabel": {
           "align": "left"
          },
          "hovermode": "closest",
          "mapbox": {
           "style": "light"
          },
          "paper_bgcolor": "white",
          "plot_bgcolor": "#E5ECF6",
          "polar": {
           "angularaxis": {
            "gridcolor": "white",
            "linecolor": "white",
            "ticks": ""
           },
           "bgcolor": "#E5ECF6",
           "radialaxis": {
            "gridcolor": "white",
            "linecolor": "white",
            "ticks": ""
           }
          },
          "scene": {
           "xaxis": {
            "backgroundcolor": "#E5ECF6",
            "gridcolor": "white",
            "gridwidth": 2,
            "linecolor": "white",
            "showbackground": true,
            "ticks": "",
            "zerolinecolor": "white"
           },
           "yaxis": {
            "backgroundcolor": "#E5ECF6",
            "gridcolor": "white",
            "gridwidth": 2,
            "linecolor": "white",
            "showbackground": true,
            "ticks": "",
            "zerolinecolor": "white"
           },
           "zaxis": {
            "backgroundcolor": "#E5ECF6",
            "gridcolor": "white",
            "gridwidth": 2,
            "linecolor": "white",
            "showbackground": true,
            "ticks": "",
            "zerolinecolor": "white"
           }
          },
          "shapedefaults": {
           "line": {
            "color": "#2a3f5f"
           }
          },
          "ternary": {
           "aaxis": {
            "gridcolor": "white",
            "linecolor": "white",
            "ticks": ""
           },
           "baxis": {
            "gridcolor": "white",
            "linecolor": "white",
            "ticks": ""
           },
           "bgcolor": "#E5ECF6",
           "caxis": {
            "gridcolor": "white",
            "linecolor": "white",
            "ticks": ""
           }
          },
          "title": {
           "x": 0.05
          },
          "xaxis": {
           "automargin": true,
           "gridcolor": "white",
           "linecolor": "white",
           "ticks": "",
           "title": {
            "standoff": 15
           },
           "zerolinecolor": "white",
           "zerolinewidth": 2
          },
          "yaxis": {
           "automargin": true,
           "gridcolor": "white",
           "linecolor": "white",
           "ticks": "",
           "title": {
            "standoff": 15
           },
           "zerolinecolor": "white",
           "zerolinewidth": 2
          }
         }
        },
        "title": {
         "font": {
          "color": "#4D5663"
         },
         "text": "Topic 0: Sentiment Polarity Distribution"
        },
        "xaxis": {
         "autorange": true,
         "gridcolor": "#E1E5ED",
         "linecolor": "black",
         "range": [
          -0.24999999999999994,
          0.71
         ],
         "showgrid": true,
         "tickfont": {
          "color": "#4D5663"
         },
         "title": {
          "font": {
           "color": "#4D5663"
          },
          "text": "polarity"
         },
         "type": "linear",
         "zerolinecolor": "#E1E5ED"
        },
        "yaxis": {
         "autorange": true,
         "gridcolor": "#E1E5ED",
         "linecolor": "black",
         "range": [
          0,
          32.63157894736842
         ],
         "showgrid": true,
         "tickfont": {
          "color": "#4D5663"
         },
         "title": {
          "font": {
           "color": "#4D5663"
          },
          "text": "count"
         },
         "zerolinecolor": "#E1E5ED"
        }
       }
      },
      "image/png": "[encoded data removed]",
      "text/html": [
       "<div>                            <div id=\"fe75bab2-edcb-4b75-bb65-9cdc090b8f15\" class=\"plotly-graph-div\" style=\"height:525px; width:100%;\"></div>            <script type=\"text/javascript\">                require([\"plotly\"], function(Plotly) {                    window.PLOTLYENV=window.PLOTLYENV || {};\n",
       "                    window.PLOTLYENV.BASE_URL='https://plot.ly';                                    if (document.getElementById(\"fe75bab2-edcb-4b75-bb65-9cdc090b8f15\")) {                    Plotly.newPlot(                        \"fe75bab2-edcb-4b75-bb65-9cdc090b8f15\",                        [{\"histfunc\":\"count\",\"histnorm\":\"\",\"marker\":{\"color\":\"rgba(255, 153, 51, 1.0)\",\"line\":{\"color\":\"#000000\",\"width\":1.3}},\"name\":\"en\",\"nbinsx\":50,\"opacity\":0.8,\"orientation\":\"v\",\"x\":[0.7,0.16239669421487601,-0.009999999999999998,0.0,0.0,0.0,0.15718923933209644,0.10997474747474746,0.043636363636363654,0.13997668997668997,0.051303620621802444,0.03797979797979798,0.08888888888888889,0.11052188552188552,0.11212121212121211,0.13300189393939396,0.09861111111111111,0.005568181818181826,0.04027777777777778,0.14567099567099567,0.1060515873015873,0.1447811447811448,0.13186868686868686,0.18925189393939396,0.07413911845730027,0.03356643356643358,0.1380952380952381,0.14393939393939392,0.2527777777777778,0.13474025974025974,0.1543560606060606,0.15164141414141413,0.1005151515151515,0.15303030303030304,0.1451569264069264,0.13654040404040405,0.12074592074592073,0.08422348484848485,0.10164141414141413,0.14188311688311686,0.07496810207336523,0.09285353535353534,0.17543290043290044,0.11233766233766233,0.1638888888888889,0.14385964912280702,0.05589225589225588,0.22999999999999998,-0.051515151515151514,0.023636363636363643,0.09084415584415582,0.16131313131313132,0.08038636363636363,0.15303030303030304,0.21830808080808084,0.0984848484848485,0.09322344322344324,0.1318001443001443,0.18579545454545454,0.19330808080808082,0.10854978354978355,0.08816919191919192,0.12986631016042782,0.18148148148148147,-0.024999999999999994,0.05863636363636364,0.13248106060606063,0.18373737373737375,0.1805785123966942,0.17843822843822846,0.09478114478114479,0.10446022727272726,0.09382284382284382,0.16542699724517906,0.19876033057851242,0.09508522727272727,0.14593837535014006,0.12142857142857144,0.1111111111111111,0.11598330241187384,0.11754079254079253,0.12662337662337664,0.14659090909090908,0.1351566080977846,0.18472222222222223,0.07222222222222222,0.13020833333333334,0.17856818181818185,0.15164141414141413,0.18354978354978355,0.11383522727272728,0.1318181818181818,0.19444444444444445,0.13996212121212123,0.11506238859180035,0.16212121212121214,0.07626262626262628,0.12142857142857144,0.08164884135472371,0.17125850340136056,0.07860795454545455,0.038429752066115715,0.09735795454545453,0.12487373737373739,0.11694214876033056,0.04612689393939394,0.13462908303817395,0.14393939393939392,0.12186147186147185,0.16095571095571096,0.14487179487179486,0.15536130536130538,0.13797979797979798,0.09285353535353535,0.15997474747474746,0.10635416666666665,0.17863636363636362,0.10769480519480519,0.1396694214876033,0.09166666666666667,0.1085681818181818,-0.008333333333333323,0.12006493506493507,0.11988413547237077,0.18333333333333335,0.15242424242424243,0.14133838383838385,0.1486111111111111,0.07497364953886694,0.13173295454545453,0.12683982683982686,0.13497474747474747,0.0741841491841492,0.16527777777777777,0.09301652892561983,0.12738927738927738,0.09176587301587301,0.061111111111111116,0.09849282296650717,0.023881673881673886,0.06212918660287081,0.00714285714285715,0.1794877344877345,0.085,0.17983907396950874,0.09663636363636363,0.09469696969696972,0.22023809523809526,0.14327651515151515,0.0771885521885522,0.09415289256198346,0.11242424242424241,0.08007177033492822,0.21200466200466203,-0.04259259259259259,0.028317384370015953,0.14662004662004663,0.2545454545454546,0.1949125874125874,-0.25,0.3066666666666667,-0.08333333333333333,-0.08333333333333333,-0.08333333333333333],\"type\":\"histogram\"}],                        {\"barmode\":\"overlay\",\"legend\":{\"bgcolor\":\"#F5F6F9\",\"font\":{\"color\":\"#4D5663\"}},\"paper_bgcolor\":\"#F5F6F9\",\"plot_bgcolor\":\"#F5F6F9\",\"template\":{\"data\":{\"barpolar\":[{\"marker\":{\"line\":{\"color\":\"#E5ECF6\",\"width\":0.5},\"pattern\":{\"fillmode\":\"overlay\",\"size\":10,\"solidity\":0.2}},\"type\":\"barpolar\"}],\"bar\":[{\"error_x\":{\"color\":\"#2a3f5f\"},\"error_y\":{\"color\":\"#2a3f5f\"},\"marker\":{\"line\":{\"color\":\"#E5ECF6\",\"width\":0.5},\"pattern\":{\"fillmode\":\"overlay\",\"size\":10,\"solidity\":0.2}},\"type\":\"bar\"}],\"carpet\":[{\"aaxis\":{\"endlinecolor\":\"#2a3f5f\",\"gridcolor\":\"white\",\"linecolor\":\"white\",\"minorgridcolor\":\"white\",\"startlinecolor\":\"#2a3f5f\"},\"baxis\":{\"endlinecolor\":\"#2a3f5f\",\"gridcolor\":\"white\",\"linecolor\":\"white\",\"minorgridcolor\":\"white\",\"startlinecolor\":\"#2a3f5f\"},\"type\":\"carpet\"}],\"choropleth\":[{\"colorbar\":{\"outlinewidth\":0,\"ticks\":\"\"},\"type\":\"choropleth\"}],\"contourcarpet\":[{\"colorbar\":{\"outlinewidth\":0,\"ticks\":\"\"},\"type\":\"contourcarpet\"}],\"contour\":[{\"colorbar\":{\"outlinewidth\":0,\"ticks\":\"\"},\"colorscale\":[[0.0,\"#0d0887\"],[0.1111111111111111,\"#46039f\"],[0.2222222222222222,\"#7201a8\"],[0.3333333333333333,\"#9c179e\"],[0.4444444444444444,\"#bd3786\"],[0.5555555555555556,\"#d8576b\"],[0.6666666666666666,\"#ed7953\"],[0.7777777777777778,\"#fb9f3a\"],[0.8888888888888888,\"#fdca26\"],[1.0,\"#f0f921\"]],\"type\":\"contour\"}],\"heatmapgl\":[{\"colorbar\":{\"outlinewidth\":0,\"ticks\":\"\"},\"colorscale\":[[0.0,\"#0d0887\"],[0.1111111111111111,\"#46039f\"],[0.2222222222222222,\"#7201a8\"],[0.3333333333333333,\"#9c179e\"],[0.4444444444444444,\"#bd3786\"],[0.5555555555555556,\"#d8576b\"],[0.6666666666666666,\"#ed7953\"],[0.7777777777777778,\"#fb9f3a\"],[0.8888888888888888,\"#fdca26\"],[1.0,\"#f0f921\"]],\"type\":\"heatmapgl\"}],\"heatmap\":[{\"colorbar\":{\"outlinewidth\":0,\"ticks\":\"\"},\"colorscale\":[[0.0,\"#0d0887\"],[0.1111111111111111,\"#46039f\"],[0.2222222222222222,\"#7201a8\"],[0.3333333333333333,\"#9c179e\"],[0.4444444444444444,\"#bd3786\"],[0.5555555555555556,\"#d8576b\"],[0.6666666666666666,\"#ed7953\"],[0.7777777777777778,\"#fb9f3a\"],[0.8888888888888888,\"#fdca26\"],[1.0,\"#f0f921\"]],\"type\":\"heatmap\"}],\"histogram2dcontour\":[{\"colorbar\":{\"outlinewidth\":0,\"ticks\":\"\"},\"colorscale\":[[0.0,\"#0d0887\"],[0.1111111111111111,\"#46039f\"],[0.2222222222222222,\"#7201a8\"],[0.3333333333333333,\"#9c179e\"],[0.4444444444444444,\"#bd3786\"],[0.5555555555555556,\"#d8576b\"],[0.6666666666666666,\"#ed7953\"],[0.7777777777777778,\"#fb9f3a\"],[0.8888888888888888,\"#fdca26\"],[1.0,\"#f0f921\"]],\"type\":\"histogram2dcontour\"}],\"histogram2d\":[{\"colorbar\":{\"outlinewidth\":0,\"ticks\":\"\"},\"colorscale\":[[0.0,\"#0d0887\"],[0.1111111111111111,\"#46039f\"],[0.2222222222222222,\"#7201a8\"],[0.3333333333333333,\"#9c179e\"],[0.4444444444444444,\"#bd3786\"],[0.5555555555555556,\"#d8576b\"],[0.6666666666666666,\"#ed7953\"],[0.7777777777777778,\"#fb9f3a\"],[0.8888888888888888,\"#fdca26\"],[1.0,\"#f0f921\"]],\"type\":\"histogram2d\"}],\"histogram\":[{\"marker\":{\"pattern\":{\"fillmode\":\"overlay\",\"size\":10,\"solidity\":0.2}},\"type\":\"histogram\"}],\"mesh3d\":[{\"colorbar\":{\"outlinewidth\":0,\"ticks\":\"\"},\"type\":\"mesh3d\"}],\"parcoords\":[{\"line\":{\"colorbar\":{\"outlinewidth\":0,\"ticks\":\"\"}},\"type\":\"parcoords\"}],\"pie\":[{\"automargin\":true,\"type\":\"pie\"}],\"scatter3d\":[{\"line\":{\"colorbar\":{\"outlinewidth\":0,\"ticks\":\"\"}},\"marker\":{\"colorbar\":{\"outlinewidth\":0,\"ticks\":\"\"}},\"type\":\"scatter3d\"}],\"scattercarpet\":[{\"marker\":{\"colorbar\":{\"outlinewidth\":0,\"ticks\":\"\"}},\"type\":\"scattercarpet\"}],\"scattergeo\":[{\"marker\":{\"colorbar\":{\"outlinewidth\":0,\"ticks\":\"\"}},\"type\":\"scattergeo\"}],\"scattergl\":[{\"marker\":{\"colorbar\":{\"outlinewidth\":0,\"ticks\":\"\"}},\"type\":\"scattergl\"}],\"scattermapbox\":[{\"marker\":{\"colorbar\":{\"outlinewidth\":0,\"ticks\":\"\"}},\"type\":\"scattermapbox\"}],\"scatterpolargl\":[{\"marker\":{\"colorbar\":{\"outlinewidth\":0,\"ticks\":\"\"}},\"type\":\"scatterpolargl\"}],\"scatterpolar\":[{\"marker\":{\"colorbar\":{\"outlinewidth\":0,\"ticks\":\"\"}},\"type\":\"scatterpolar\"}],\"scatter\":[{\"fillpattern\":{\"fillmode\":\"overlay\",\"size\":10,\"solidity\":0.2},\"type\":\"scatter\"}],\"scatterternary\":[{\"marker\":{\"colorbar\":{\"outlinewidth\":0,\"ticks\":\"\"}},\"type\":\"scatterternary\"}],\"surface\":[{\"colorbar\":{\"outlinewidth\":0,\"ticks\":\"\"},\"colorscale\":[[0.0,\"#0d0887\"],[0.1111111111111111,\"#46039f\"],[0.2222222222222222,\"#7201a8\"],[0.3333333333333333,\"#9c179e\"],[0.4444444444444444,\"#bd3786\"],[0.5555555555555556,\"#d8576b\"],[0.6666666666666666,\"#ed7953\"],[0.7777777777777778,\"#fb9f3a\"],[0.8888888888888888,\"#fdca26\"],[1.0,\"#f0f921\"]],\"type\":\"surface\"}],\"table\":[{\"cells\":{\"fill\":{\"color\":\"#EBF0F8\"},\"line\":{\"color\":\"white\"}},\"header\":{\"fill\":{\"color\":\"#C8D4E3\"},\"line\":{\"color\":\"white\"}},\"type\":\"table\"}]},\"layout\":{\"annotationdefaults\":{\"arrowcolor\":\"#2a3f5f\",\"arrowhead\":0,\"arrowwidth\":1},\"autotypenumbers\":\"strict\",\"coloraxis\":{\"colorbar\":{\"outlinewidth\":0,\"ticks\":\"\"}},\"colorscale\":{\"diverging\":[[0,\"#8e0152\"],[0.1,\"#c51b7d\"],[0.2,\"#de77ae\"],[0.3,\"#f1b6da\"],[0.4,\"#fde0ef\"],[0.5,\"#f7f7f7\"],[0.6,\"#e6f5d0\"],[0.7,\"#b8e186\"],[0.8,\"#7fbc41\"],[0.9,\"#4d9221\"],[1,\"#276419\"]],\"sequential\":[[0.0,\"#0d0887\"],[0.1111111111111111,\"#46039f\"],[0.2222222222222222,\"#7201a8\"],[0.3333333333333333,\"#9c179e\"],[0.4444444444444444,\"#bd3786\"],[0.5555555555555556,\"#d8576b\"],[0.6666666666666666,\"#ed7953\"],[0.7777777777777778,\"#fb9f3a\"],[0.8888888888888888,\"#fdca26\"],[1.0,\"#f0f921\"]],\"sequentialminus\":[[0.0,\"#0d0887\"],[0.1111111111111111,\"#46039f\"],[0.2222222222222222,\"#7201a8\"],[0.3333333333333333,\"#9c179e\"],[0.4444444444444444,\"#bd3786\"],[0.5555555555555556,\"#d8576b\"],[0.6666666666666666,\"#ed7953\"],[0.7777777777777778,\"#fb9f3a\"],[0.8888888888888888,\"#fdca26\"],[1.0,\"#f0f921\"]]},\"colorway\":[\"#636efa\",\"#EF553B\",\"#00cc96\",\"#ab63fa\",\"#FFA15A\",\"#19d3f3\",\"#FF6692\",\"#B6E880\",\"#FF97FF\",\"#FECB52\"],\"font\":{\"color\":\"#2a3f5f\"},\"geo\":{\"bgcolor\":\"white\",\"lakecolor\":\"white\",\"landcolor\":\"#E5ECF6\",\"showlakes\":true,\"showland\":true,\"subunitcolor\":\"white\"},\"hoverlabel\":{\"align\":\"left\"},\"hovermode\":\"closest\",\"mapbox\":{\"style\":\"light\"},\"paper_bgcolor\":\"white\",\"plot_bgcolor\":\"#E5ECF6\",\"polar\":{\"angularaxis\":{\"gridcolor\":\"white\",\"linecolor\":\"white\",\"ticks\":\"\"},\"bgcolor\":\"#E5ECF6\",\"radialaxis\":{\"gridcolor\":\"white\",\"linecolor\":\"white\",\"ticks\":\"\"}},\"scene\":{\"xaxis\":{\"backgroundcolor\":\"#E5ECF6\",\"gridcolor\":\"white\",\"gridwidth\":2,\"linecolor\":\"white\",\"showbackground\":true,\"ticks\":\"\",\"zerolinecolor\":\"white\"},\"yaxis\":{\"backgroundcolor\":\"#E5ECF6\",\"gridcolor\":\"white\",\"gridwidth\":2,\"linecolor\":\"white\",\"showbackground\":true,\"ticks\":\"\",\"zerolinecolor\":\"white\"},\"zaxis\":{\"backgroundcolor\":\"#E5ECF6\",\"gridcolor\":\"white\",\"gridwidth\":2,\"linecolor\":\"white\",\"showbackground\":true,\"ticks\":\"\",\"zerolinecolor\":\"white\"}},\"shapedefaults\":{\"line\":{\"color\":\"#2a3f5f\"}},\"ternary\":{\"aaxis\":{\"gridcolor\":\"white\",\"linecolor\":\"white\",\"ticks\":\"\"},\"baxis\":{\"gridcolor\":\"white\",\"linecolor\":\"white\",\"ticks\":\"\"},\"bgcolor\":\"#E5ECF6\",\"caxis\":{\"gridcolor\":\"white\",\"linecolor\":\"white\",\"ticks\":\"\"}},\"title\":{\"x\":0.05},\"xaxis\":{\"automargin\":true,\"gridcolor\":\"white\",\"linecolor\":\"white\",\"ticks\":\"\",\"title\":{\"standoff\":15},\"zerolinecolor\":\"white\",\"zerolinewidth\":2},\"yaxis\":{\"automargin\":true,\"gridcolor\":\"white\",\"linecolor\":\"white\",\"ticks\":\"\",\"title\":{\"standoff\":15},\"zerolinecolor\":\"white\",\"zerolinewidth\":2}}},\"title\":{\"font\":{\"color\":\"#4D5663\"},\"text\":\"Topic 0: Sentiment Polarity Distribution\"},\"xaxis\":{\"gridcolor\":\"#E1E5ED\",\"linecolor\":\"black\",\"showgrid\":true,\"tickfont\":{\"color\":\"#4D5663\"},\"title\":{\"font\":{\"color\":\"#4D5663\"},\"text\":\"polarity\"},\"zerolinecolor\":\"#E1E5ED\"},\"yaxis\":{\"gridcolor\":\"#E1E5ED\",\"linecolor\":\"black\",\"showgrid\":true,\"tickfont\":{\"color\":\"#4D5663\"},\"title\":{\"font\":{\"color\":\"#4D5663\"},\"text\":\"count\"},\"zerolinecolor\":\"#E1E5ED\"}},                        {\"showLink\": true, \"linkText\": \"Export to plot.ly\", \"plotlyServerURL\": \"https://plot.ly\", \"responsive\": true}                    ).then(function(){\n",
       "                            \n",
       "var gd = document.getElementById('fe75bab2-edcb-4b75-bb65-9cdc090b8f15');\n",
       "var x = new MutationObserver(function (mutations, observer) {{\n",
       "        var display = window.getComputedStyle(gd).display;\n",
       "        if (!display || display === 'none') {{\n",
       "            console.log([gd, 'removed!']);\n",
       "            Plotly.purge(gd);\n",
       "            observer.disconnect();\n",
       "        }}\n",
       "}});\n",
       "\n",
       "// Listen for the removal of the full notebook cells\n",
       "var notebookContainer = gd.closest('#notebook-container');\n",
       "if (notebookContainer) {{\n",
       "    x.observe(notebookContainer, {childList: true});\n",
       "}}\n",
       "\n",
       "// Listen for the clearing of the current output cell\n",
       "var outputEl = gd.closest('.output');\n",
       "if (outputEl) {{\n",
       "    x.observe(outputEl, {childList: true});\n",
       "}}\n",
       "\n",
       "                        })                };                });            </script>        </div>"
      ]
     },
     "metadata": {},
     "output_type": "display_data"
    }
   ],
   "source": [
    "plot_model(lda, plot = 'sentiment')"
   ]
  },
  {
   "cell_type": "code",
   "execution_count": 6,
   "id": "45f6b2c9-7e06-43cb-adf7-e57b352d322e",
   "metadata": {},
   "outputs": [
    {
     "data": {
      "application/vnd.jupyter.widget-view+json": {
       "model_id": "3682c0666c9d40188fbb9a53b294b425",
       "version_major": 2,
       "version_minor": 0
      },
      "text/plain": [
       "interactive(children=(ToggleButtons(description='Plot Type:', icons=('',), options=(('Frequency Plot', 'freque…"
      ]
     },
     "metadata": {},
     "output_type": "display_data"
    }
   ],
   "source": [
    "evaluate_model(lda)"
   ]
  }
 ],
 "metadata": {
  "kernelspec": {
   "display_name": "d2l:Python",
   "language": "python",
   "name": "conda-env-d2l-py"
  },
  "language_info": {
   "codemirror_mode": {
    "name": "ipython",
    "version": 3
   },
   "file_extension": ".py",
   "mimetype": "text/x-python",
   "name": "python",
   "nbconvert_exporter": "python",
   "pygments_lexer": "ipython3",
   "version": "3.9.9"
  }
 },
 "nbformat": 4,
 "nbformat_minor": 5
}
